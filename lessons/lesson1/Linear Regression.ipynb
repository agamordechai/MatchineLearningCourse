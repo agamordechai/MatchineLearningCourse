{
 "cells": [
  {
   "cell_type": "markdown",
   "metadata": {},
   "source": [
    "#### Concept\n",
    "\n",
    "רגרסיה לינארית היא שיטה סטטיסטית המשמשת מודל המודד את הקשר בין משתנה תלוי (יעד) לבין משתנה עצמאי אחד או יותר (תכונות). המטרה היא למצוא את המשוואה הליניארית המנבאת בצורה הטובה ביותר את משתנה היעד ממשתני התכונה."
   ]
  },
  {
   "cell_type": "code",
   "execution_count": 2,
   "metadata": {},
   "outputs": [
    {
     "name": "stdout",
     "output_type": "stream",
     "text": [
      "Mean Squared Error: 0.0\n",
      "R-squared: 1.0\n"
     ]
    },
    {
     "data": {
      "image/png": "[encoded data removed]",
      "text/plain": [
       "<Figure size 432x288 with 1 Axes>"
      ]
     },
     "metadata": {
      "needs_background": "light"
     },
     "output_type": "display_data"
    }
   ],
   "source": [
    "# Import necessary libraries\n",
    "import numpy as np\n",
    "import pandas as pd\n",
    "from sklearn.model_selection import train_test_split\n",
    "from sklearn.linear_model import LinearRegression\n",
    "from sklearn.metrics import mean_squared_error, r2_score\n",
    "import matplotlib.pyplot as plt\n",
    "\n",
    "\n",
    "# Example data\n",
    "data = {\n",
    "    'Size': [1500, 1600, 1700, 1800, 1900, 2000, 2100, 2200, 2300, 2400],\n",
    "    'Price': [300000, 320000, 340000, 360000, 380000, 400000, 420000, 440000, 460000, 480000]\n",
    "}\n",
    "df = pd.DataFrame(data)\n",
    "\n",
    "\n",
    "# Independent variable (feature) and dependent variable (target)\n",
    "X = df[['Size']]\n",
    "y = df['Price']\n",
    "\n",
    "\n",
    "# Splitting the data into training and testing sets\n",
    "X_train, X_test, y_train, y_test = train_test_split(X, y, test_size=0.2, random_state=0)\n",
    "\n",
    "\n",
    "# Creating and training the linear regression model\n",
    "model = LinearRegression()\n",
    "model.fit(X_train, y_train)\n",
    "\n",
    "\n",
    "# Making predictions\n",
    "y_pred = model.predict(X_test)\n",
    "\n",
    "\n",
    "# Evaluating the model\n",
    "mse = mean_squared_error(y_test, y_pred)\n",
    "r2 = r2_score(y_test, y_pred)\n",
    "\n",
    "print(f\"Mean Squared Error: {mse}\")\n",
    "print(f\"R-squared: {r2}\")\n",
    "\n",
    "# Plotting the results\n",
    "plt.scatter(X, y, color='blue')  # Original data points\n",
    "plt.plot(X_test, y_pred, color='red', linewidth=2)  # Regression line\n",
    "plt.xlabel('Size (sq ft)')\n",
    "plt.ylabel('Price ($)')\n",
    "plt.title('Linear Regression: House Prices vs Size')\n",
    "plt.show()"
   ]
  },
  {
   "cell_type": "markdown",
   "metadata": {},
   "source": [
    "#### Explanation of the Code\n",
    "\n",
    "1. Libraries: We import necessary libraries like numpy, pandas, sklearn, and matplotlib.\n",
    "2. Data Preparation: We create a DataFrame containing the size and price of houses.\n",
    "3. Feature and Target: We separate the feature (Size) and the target (Price).\n",
    "4. Train-Test Split: We split the data into training and testing sets.\n",
    "5. Model Training: We create a LinearRegression model and train it using the training data.\n",
    "6. Predictions: We use the trained model to predict house prices for the test set.\n",
    "7. Evaluation: We evaluate the model using Mean Squared Error (MSE) and R-squared (R²) metrics.\n",
    "8. Visualization: We plot the original data points and the regression line to visualize the model's performance.\n",
    "\n",
    "\n"
   ]
  },
  {
   "cell_type": "markdown",
   "metadata": {},
   "source": [
    "#### Evaluation Metrics\n",
    "\n",
    "- Mean Squared Error (MSE): Measures the average squared difference between the actual and predicted values. Lower values indicate better performance.\n",
    "- R-squared (R²): Represents the proportion of the variance in the dependent variable that is predictable from the independent variable(s). Values closer to 1 indicate a better fit."
   ]
  }
 ],
 "metadata": {
  "kernelspec": {
   "display_name": "Python 3",
   "language": "python",
   "name": "python3"
  },
  "language_info": {
   "codemirror_mode": {
    "name": "ipython",
    "version": 3
   },
   "file_extension": ".py",
   "mimetype": "text/x-python",
   "name": "python",
   "nbconvert_exporter": "python",
   "pygments_lexer": "ipython3",
   "version": "3.8.5"
  }
 },
 "nbformat": 4,
 "nbformat_minor": 4
}
