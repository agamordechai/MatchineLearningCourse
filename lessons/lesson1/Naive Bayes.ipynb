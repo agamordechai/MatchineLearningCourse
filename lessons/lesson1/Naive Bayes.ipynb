{
 "cells": [
  {
   "cell_type": "markdown",
   "metadata": {},
   "source": [
    "#### Concept: \n",
    "Naive Bayes is a family of probabilistic algorithms based on Bayes' Theorem with the \"naive\" assumption of independence between every pair of features. Despite this strong assumption, Naive Bayes classifiers have performed surprisingly well in many real-world applications, particularly for text classification.\n",
    "\n",
    "#### Types of Naive Bayes Classifiers\n",
    "1. Gaussian Naive Bayes: Assumes that the features follow a normal distribution.\n",
    "2. Multinomial Naive Bayes: Typically used for discrete data (e.g., text classification with word counts).\n",
    "3. Bernoulli Naive Bayes: Used for binary/boolean features.\n",
    "\n",
    "#### Implementation\n",
    "\n",
    "Let's consider an example using Python and its libraries.\n",
    "\n",
    "##### Example\n",
    "Suppose we have a dataset that records features of different emails, such as word frequencies, to classify them as spam or not spam.\n",
    "\n"
   ]
  },
  {
   "cell_type": "code",
   "execution_count": 1,
   "metadata": {},
   "outputs": [
    {
     "name": "stdout",
     "output_type": "stream",
     "text": [
      "Accuracy: 1.0\n",
      "Confusion Matrix:\n",
      "[[1 0]\n",
      " [0 1]]\n",
      "Classification Report:\n",
      "              precision    recall  f1-score   support\n",
      "\n",
      "           0       1.00      1.00      1.00         1\n",
      "           1       1.00      1.00      1.00         1\n",
      "\n",
      "    accuracy                           1.00         2\n",
      "   macro avg       1.00      1.00      1.00         2\n",
      "weighted avg       1.00      1.00      1.00         2\n",
      "\n"
     ]
    }
   ],
   "source": [
    "# Import necessary libraries\n",
    "import numpy as np\n",
    "import pandas as pd\n",
    "from sklearn.model_selection import train_test_split\n",
    "from sklearn.naive_bayes import MultinomialNB\n",
    "from sklearn.metrics import accuracy_score, confusion_matrix, classification_report\n",
    "\n",
    "\n",
    "# Example data\n",
    "data = {\n",
    "    'Feature1': [1, 2, 3, 4, 5, 1, 2, 3, 4, 5],\n",
    "    'Feature2': [5, 4, 3, 2, 1, 5, 4, 3, 2, 1],\n",
    "    'Feature3': [1, 1, 1, 1, 1, 0, 0, 0, 0, 0],\n",
    "    'Spam':     [0, 0, 0, 0, 0, 1, 1, 1, 1, 1]\n",
    "}\n",
    "\n",
    "df = pd.DataFrame(data)\n",
    "\n",
    "\n",
    "# Independent variables (features) and dependent variable (target)\n",
    "X = df[['Feature1', 'Feature2', 'Feature3']]\n",
    "y = df['Spam']\n",
    "\n",
    "\n",
    "# Splitting the data into training and testing sets\n",
    "X_train, X_test, y_train, y_test = train_test_split(X, y, test_size=0.2, random_state=0)\n",
    "\n",
    "# Creating and training the Multinomial Naive Bayes model\n",
    "model = MultinomialNB()\n",
    "model.fit(X_train, y_train)\n",
    "\n",
    "# Making predictions\n",
    "y_pred = model.predict(X_test)\n",
    "\n",
    "# Evaluating the model\n",
    "accuracy = accuracy_score(y_test, y_pred)\n",
    "conf_matrix = confusion_matrix(y_test, y_pred)\n",
    "class_report = classification_report(y_test, y_pred)\n",
    "\n",
    "print(f\"Accuracy: {accuracy}\")\n",
    "print(f\"Confusion Matrix:\\n{conf_matrix}\")\n",
    "print(f\"Classification Report:\\n{class_report}\")"
   ]
  },
  {
   "cell_type": "markdown",
   "metadata": {},
   "source": [
    "#### Explanation of the Code\n",
    "\n",
    "1. Libraries: We import necessary libraries like numpy, pandas, and sklearn.\n",
    "2. Data Preparation: We create a DataFrame containing features (Feature1, Feature2, Feature3) and the target variable (Spam).\n",
    "3. Feature and Target: We separate the features and the target variable.\n",
    "4. Train-Test Split: We split the data into training and testing sets.\n",
    "5. Model Training: We create a MultinomialNB model and train it using the training data.\n",
    "6. Predictions: We use the trained model to predict whether the emails in the test set are spam.\n",
    "7. Evaluation: We evaluate the model using accuracy, confusion matrix, and classification report."
   ]
  },
  {
   "cell_type": "markdown",
   "metadata": {},
   "source": [
    "#### Evaluation Metrics\n",
    "\n",
    "- Accuracy: The proportion of correctly classified instances among the total instances.\n",
    "- Confusion Matrix: Shows the counts of true positives, true negatives, false positives, and false negatives.\n",
    "- Classification Report: Provides precision, recall, F1-score, and support for each class.\n",
    "\n",
    "#### Applications\n",
    "\n",
    "Naive Bayes classifiers are widely used for:\n",
    "- Text Classification: Spam detection, sentiment analysis, and document categorization.\n",
    "- Medical Diagnosis: Predicting diseases based on symptoms.\n",
    "- Recommendation Systems: Recommending products or services based on user behavior.\n"
   ]
  }
 ],
 "metadata": {
  "kernelspec": {
   "display_name": "Python 3",
   "language": "python",
   "name": "python3"
  },
  "language_info": {
   "codemirror_mode": {
    "name": "ipython",
    "version": 3
   },
   "file_extension": ".py",
   "mimetype": "text/x-python",
   "name": "python",
   "nbconvert_exporter": "python",
   "pygments_lexer": "ipython3",
   "version": "3.8.5"
  }
 },
 "nbformat": 4,
 "nbformat_minor": 4
}
