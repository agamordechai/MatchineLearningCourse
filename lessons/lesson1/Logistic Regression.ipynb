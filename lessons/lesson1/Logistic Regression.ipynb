{
 "cells": [
  {
   "cell_type": "markdown",
   "metadata": {},
   "source": [
    "#### Concept\n",
    "\n",
    "רגרסיה לוגיסטית משמשת לבעיות סיווג בינאריות, כאשר התוצאה היא משתנה קטגורי עם שתי תוצאות אפשריות (למשל, 0 או 1, נכון או שקר). במקום לחזות ערך רציף כמו רגרסיה לינארית, רגרסיה לוגיסטית מנבאת את ההסתברות של מעמד ספציפי.\n",
    "\n",
    "מודל הרגרסיה הלוגיסטית משתמש בפונקציה הלוגיסטית (המכונה גם פונקציית sigmoid) כדי למפות ערכים חזויים להסתברות."
   ]
  },
  {
   "cell_type": "code",
   "execution_count": 4,
   "metadata": {},
   "outputs": [
    {
     "name": "stdout",
     "output_type": "stream",
     "text": [
      "Confusion Matrix:\n",
      "[[1 0]\n",
      " [0 1]]\n",
      "Classification Report:\n",
      "              precision    recall  f1-score   support\n",
      "\n",
      "           0       1.00      1.00      1.00         1\n",
      "           1       1.00      1.00      1.00         1\n",
      "\n",
      "    accuracy                           1.00         2\n",
      "   macro avg       1.00      1.00      1.00         2\n",
      "weighted avg       1.00      1.00      1.00         2\n",
      "\n",
      "ROC-AUC: 1.0\n"
     ]
    },
    {
     "data": {
      "image/png": "[encoded data removed]",
      "text/plain": [
       "<Figure size 432x288 with 1 Axes>"
      ]
     },
     "metadata": {
      "needs_background": "light"
     },
     "output_type": "display_data"
    }
   ],
   "source": [
    "# Import necessary libraries\n",
    "import numpy as np\n",
    "import pandas as pd\n",
    "from sklearn.model_selection import train_test_split\n",
    "from sklearn.linear_model import LogisticRegression\n",
    "from sklearn.metrics import confusion_matrix, classification_report, roc_auc_score, roc_curve\n",
    "import matplotlib.pyplot as plt\n",
    "\n",
    "\n",
    "# Example data\n",
    "data = {\n",
    "    'Hours_Studied': [1, 2, 3, 4, 5, 6, 7, 8, 9, 10],\n",
    "    'Passed': [0, 0, 0, 0, 1, 1, 1, 0, 1, 1]\n",
    "}\n",
    "df = pd.DataFrame(data)\n",
    "\n",
    "\n",
    "# Independent variable (feature) and dependent variable (target)\n",
    "X = df[['Hours_Studied']]\n",
    "y = df['Passed']\n",
    "\n",
    "\n",
    "# Splitting the data into training and testing sets\n",
    "X_train, X_test, y_train, y_test = train_test_split(X, y, test_size=0.2, random_state=0)\n",
    "\n",
    "# Creating and training the logistic regression model\n",
    "model = LogisticRegression()\n",
    "model.fit(X_train, y_train)\n",
    "\n",
    "# Making predictions\n",
    "y_pred = model.predict(X_test)\n",
    "y_pred_prob = model.predict_proba(X_test)[:, 1]\n",
    "\n",
    "# Evaluating the model\n",
    "conf_matrix = confusion_matrix(y_test, y_pred)\n",
    "class_report = classification_report(y_test, y_pred)\n",
    "roc_auc = roc_auc_score(y_test, y_pred_prob)\n",
    "\n",
    "print(f\"Confusion Matrix:\\n{conf_matrix}\")\n",
    "print(f\"Classification Report:\\n{class_report}\")\n",
    "print(f\"ROC-AUC: {roc_auc}\")\n",
    "\n",
    "# Plotting the ROC curve\n",
    "fpr, tpr, thresholds = roc_curve(y_test, y_pred_prob)\n",
    "plt.plot(fpr, tpr, label='Logistic Regression (area = %0.2f)' % roc_auc)\n",
    "plt.plot([0, 1], [0, 1], 'k--')\n",
    "plt.xlim([0.0, 1.0])\n",
    "plt.ylim([0.0, 1.05])\n",
    "plt.xlabel('False Positive Rate')\n",
    "plt.ylabel('True Positive Rate')\n",
    "plt.title('Receiver Operating Characteristic')\n",
    "plt.legend(loc=\"lower right\")\n",
    "plt.show()"
   ]
  },
  {
   "cell_type": "markdown",
   "metadata": {},
   "source": [
    "#### Explanation of the Code\n",
    "\n",
    "1. Libraries: We import necessary libraries like numpy, pandas, sklearn, and matplotlib.\n",
    "2. Data Preparation: We create a DataFrame containing the hours studied and whether the student passed.\n",
    "3. Feature and Target: We separate the feature (Hours_Studied) and the target (Passed).\n",
    "4. Train-Test Split: We split the data into training and testing sets.\n",
    "5. Model Training: We create a LogisticRegression model and train it using the training data.\n",
    "6. Predictions: We use the trained model to predict the pass/fail outcome for the test set and also obtain the predicted probabilities.\n",
    "7. Evaluation: We evaluate the model using the confusion matrix, classification report, and ROC-AUC score.\n",
    "8. Visualization: We plot the ROC curve to visualize the model's performance.\n",
    "\n"
   ]
  },
  {
   "cell_type": "markdown",
   "metadata": {},
   "source": [
    "#### Evaluation Metrics\n",
    "\n",
    "- Confusion Matrix: Shows the counts of true positives, true negatives, false positives, and false negatives.\n",
    "- Classification Report: Provides precision, recall, F1-score, and support for each class.\n",
    "- ROC-AUC: Measures the model's ability to distinguish between the classes. AUC (Area Under the Curve) closer to 1 indicates better performance.\n"
   ]
  }
 ],
 "metadata": {
  "kernelspec": {
   "display_name": "Python 3",
   "language": "python",
   "name": "python3"
  },
  "language_info": {
   "codemirror_mode": {
    "name": "ipython",
    "version": 3
   },
   "file_extension": ".py",
   "mimetype": "text/x-python",
   "name": "python",
   "nbconvert_exporter": "python",
   "pygments_lexer": "ipython3",
   "version": "3.8.5"
  }
 },
 "nbformat": 4,
 "nbformat_minor": 4
}
