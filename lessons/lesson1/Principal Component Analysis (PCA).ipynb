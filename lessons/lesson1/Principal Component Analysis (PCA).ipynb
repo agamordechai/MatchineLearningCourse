{
 "cells": [
  {
   "cell_type": "markdown",
   "metadata": {},
   "source": [
    "#### Concept: \n",
    "Principal Component Analysis (PCA) is a dimensionality reduction technique used to transform a large set of correlated features into a smaller set of uncorrelated features called principal components. These principal components capture the maximum variance in the data while reducing the dimensionality.\n",
    "\n",
    "The steps involved in PCA are:\n",
    "1. Standardization: Normalize the data to have zero mean and unit variance.\n",
    "2. Covariance Matrix Computation: Compute the covariance matrix of the features.\n",
    "3. Eigenvalue and Eigenvector Decomposition: Compute the eigenvalues and eigenvectors of the covariance matrix.\n",
    "4. Principal Components Selection: Select the top \\(k\\) eigenvectors corresponding to the largest eigenvalues to form the principal components.\n",
    "5. Transformation: Project the original data onto the new subspace formed by the selected principal components.\n",
    "\n",
    "#### Benefits of PCA\n",
    "- Reduces Dimensionality: Simplifies the dataset by reducing the number of features.\n",
    "- Improves Performance: Speeds up machine learning algorithms and reduces the risk of overfitting.\n",
    "- Uncovers Hidden Patterns: Helps visualize the underlying structure of the data.\n",
    "\n",
    "#### Implementation\n",
    "\n",
    "Let's consider an example using Python and its libraries.\n",
    "\n",
    "##### Example\n",
    "Suppose we have a dataset with multiple features and we want to reduce the dimensionality using PCA.\n"
   ]
  },
  {
   "cell_type": "code",
   "execution_count": null,
   "metadata": {},
   "outputs": [],
   "source": [
    "# Import necessary libraries\n",
    "import numpy as np\n",
    "import pandas as pd\n",
    "from sklearn.decomposition import PCA\n",
    "from sklearn.preprocessing import StandardScaler\n",
    "import matplotlib.pyplot as plt\n",
    "\n",
    "# Example data (Iris dataset)\n",
    "from sklearn.datasets import load_iris\n",
    "iris = load_iris()\n",
    "X = iris.data\n",
    "y = iris.target\n",
    "\n",
    "# Standardizing the features\n",
    "scaler = StandardScaler()\n",
    "X_scaled = scaler.fit_transform(X)\n",
    "\n",
    "# Applying PCA\n",
    "pca = PCA(n_components=2)\n",
    "X_pca = pca.fit_transform(X_scaled)\n",
    "\n",
    "# Plotting the principal components\n",
    "plt.figure(figsize=(8,6))\n",
    "plt.scatter(X_pca[:, 0], X_pca[:, 1], c=y, cmap='viridis', edgecolor='k', s=50)\n",
    "plt.xlabel('Principal Component 1')\n",
    "plt.ylabel('Principal Component 2')\n",
    "plt.title('PCA of Iris Dataset')\n",
    "plt.colorbar()\n",
    "plt.show()\n",
    "\n",
    "# Explained variance\n",
    "explained_variance = pca.explained_variance_ratio_\n",
    "print(f\"Explained Variance by Component 1: {explained_variance[0]:.2f}\")\n",
    "print(f\"Explained Variance by Component 2: {explained_variance[1]:.2f}\")"
   ]
  },
  {
   "cell_type": "markdown",
   "metadata": {},
   "source": [
    "#### Explanation of the Code\n",
    "\n",
    "1. Libraries: We import necessary libraries like numpy, pandas, sklearn, and matplotlib.\n",
    "2. Data Preparation: We use the Iris dataset with four features.\n",
    "3. Standardization: We standardize the features to have zero mean and unit variance.\n",
    "4. Applying PCA: We create a PCA object with 2 components and fit it to the standardized data, then transform the data to the new 2-dimensional subspace.\n",
    "5. Plotting: We scatter plot the principal components with color indicating different classes.\n",
    "6. Explained Variance: We print the proportion of variance explained by the first two principal components.\n"
   ]
  },
  {
   "cell_type": "markdown",
   "metadata": {},
   "source": [
    "#### Explained Variance\n",
    "\n",
    "- Explained Variance: Indicates how much of the total variance in the data is captured by each principal component. In our example, if the first principal component explains 72% of the variance and the second explains 23%, together they explain 95% of the variance.\n",
    "\n",
    "#### Applications\n",
    "\n",
    "PCA is widely used in:\n",
    "- Data Visualization: Reducing high-dimensional data to 2 or 3 dimensions for visualization.\n",
    "- Noise Reduction: Removing noise by retaining only the principal components with significant variance.\n",
    "- Feature Extraction: Deriving new features that capture the essential information.\n",
    "\n",
    "PCA is a powerful tool for simplifying complex datasets while retaining the most important information. However, it assumes linear relationships among variables and may not capture complex patterns in the data.\n"
   ]
  }
 ],
 "metadata": {
  "kernelspec": {
   "display_name": "Python 3",
   "language": "python",
   "name": "python3"
  },
  "language_info": {
   "codemirror_mode": {
    "name": "ipython",
    "version": 3
   },
   "file_extension": ".py",
   "mimetype": "text/x-python",
   "name": "python",
   "nbconvert_exporter": "python",
   "pygments_lexer": "ipython3",
   "version": "3.8.5"
  }
 },
 "nbformat": 4,
 "nbformat_minor": 4
}
