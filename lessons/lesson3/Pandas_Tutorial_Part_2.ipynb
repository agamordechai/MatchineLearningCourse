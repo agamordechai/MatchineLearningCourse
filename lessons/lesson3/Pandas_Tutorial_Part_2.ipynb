{
 "cells": [
  {
   "cell_type": "markdown",
   "metadata": {
    "id": "fNX3iS3e4N0_"
   },
   "source": [
    "# Pandas Toturial Part 2\n",
    "\n",
    "On this lesson we will cover the following topics:\n",
    "\n",
    "* Lambda Functions\n",
    "* Boolean Indexing\n",
    "* Reading & Writing data\n",
    "* DataFrame Manipulation\n",
    "* Statistics on data"
   ]
  },
  {
   "cell_type": "code",
   "execution_count": null,
   "metadata": {
    "id": "IJwI07Pn4F5v"
   },
   "outputs": [],
   "source": [
    "# we start with the imports as follows:\n",
    "import pandas as pd\n",
    "import numpy as np\n",
    "import matplotlib.pyplot as plt\n",
    "import math\n",
    "\n",
    "# and ipython definition:\n",
    "%matplotlib inline"
   ]
  },
  {
   "cell_type": "code",
   "execution_count": null,
   "metadata": {
    "id": "lCTqK5ZeDxOy"
   },
   "outputs": [],
   "source": [
    "# show several prints in one cell. This will allow us to condence every trick in one cell.\n",
    "from IPython.core.interactiveshell import InteractiveShell\n",
    "InteractiveShell.ast_node_interactivity = \"all\""
   ]
  },
  {
   "cell_type": "markdown",
   "metadata": {
    "heading_collapsed": true,
    "id": "p1dgGuQTPCqP"
   },
   "source": [
    "## Lambda Function\n",
    "A lambda function is a small anonymous function.\n",
    "\n",
    "A lambda function can take any number of arguments, but can only have one expression."
   ]
  },
  {
   "cell_type": "markdown",
   "metadata": {
    "hidden": true,
    "id": "uKvcYlyNPSRr"
   },
   "source": [
    "### Syntax\n",
    "\n",
    "**lambda** arguments : expression\n",
    "\n",
    "The expression is executed and the result is returned"
   ]
  },
  {
   "cell_type": "code",
   "execution_count": null,
   "metadata": {
    "hidden": true,
    "id": "pgAaaZsfZ_l1"
   },
   "outputs": [],
   "source": []
  },
  {
   "cell_type": "code",
   "execution_count": null,
   "metadata": {
    "colab": {
     "base_uri": "https://localhost:8080/"
    },
    "hidden": true,
    "id": "kIpUbhXFPKr7",
    "outputId": "95854569-8298-48f0-cc6f-919aa4421b41"
   },
   "outputs": [],
   "source": [
    "# Add 10 to argument a, and return the result:\n",
    "\n",
    "x = lambda a : a + 10 # x is a variable holding a function, it is an executable\n",
    "print(x(5))"
   ]
  },
  {
   "cell_type": "code",
   "execution_count": null,
   "metadata": {
    "colab": {
     "base_uri": "https://localhost:8080/"
    },
    "hidden": true,
    "id": "2s7YxibfPg_X",
    "outputId": "8cf9d4ea-55ae-4840-8518-45560ea43dcf"
   },
   "outputs": [],
   "source": [
    "# Multiply argument a with argument b and return the result:\n",
    "\n",
    "x = lambda a, b : a * b\n",
    "print(x(5, 6))"
   ]
  },
  {
   "cell_type": "markdown",
   "metadata": {
    "id": "AFRwJQfK5RpN"
   },
   "source": [
    "## Boolean Indexing\n",
    "\n",
    "In boolean indexing, we will select subsets of data based on the actual values of the data in the DataFrame and not on their row/column labels or integer locations. In boolean indexing, we use a boolean vector to filter the data. "
   ]
  },
  {
   "cell_type": "markdown",
   "metadata": {
    "id": "5ZADrMqR5gv-"
   },
   "source": [
    "Boolean indexing is a type of indexing which uses actual values of the data in the DataFrame. In boolean indexing, we can filter a data in 2 main ways – \n",
    "\n",
    "* Accessing a DataFrame with a boolean index\n",
    "* Masking data based on column value"
   ]
  },
  {
   "cell_type": "markdown",
   "metadata": {
    "id": "q4yHKaX76wJD"
   },
   "source": [
    "**Accessing a DataFrame with a boolean index**\n",
    "\n",
    "In order to access a dataframe with a boolean index, we have to create a dataframe in which the index of dataframe contains a boolean value that is “True” or “False”. For Example "
   ]
  },
  {
   "cell_type": "code",
   "execution_count": null,
   "metadata": {
    "colab": {
     "base_uri": "https://localhost:8080/",
     "height": 173
    },
    "id": "90kpe7qg5qel",
    "outputId": "c070afcc-f559-4a86-edb5-15d2b5e97fe6"
   },
   "outputs": [],
   "source": [
    "data = {'name':[\"Yair\", \"Ben\", \"Shir\", \"Natan\"],\n",
    "        'degree': [\"MBA\", \"BCA\", \"M.Tech\", \"MBA\"],\n",
    "        'score':[90, 40, 80, 98]}\n",
    "  \n",
    "df = pd.DataFrame(data, index = [True, False, True, False])\n",
    "  \n",
    "df"
   ]
  },
  {
   "cell_type": "markdown",
   "metadata": {
    "id": "0PMST8rm5_pA"
   },
   "source": [
    "In order to access a dataframe with a boolean index using **.loc[]**, we simply pass a boolean value (True or False) in a **.loc[]** function\n",
    "\n",
    "**.iloc** doesn't work as the Index is not automatically generated"
   ]
  },
  {
   "cell_type": "code",
   "execution_count": null,
   "metadata": {
    "colab": {
     "base_uri": "https://localhost:8080/"
    },
    "id": "JQXLF4ej5x92",
    "outputId": "7db71010-5935-4e61-ef44-56ca5ad8ddee"
   },
   "outputs": [],
   "source": [
    "print(df.loc[True])\n",
    "print()\n",
    "print(df.loc[False])"
   ]
  },
  {
   "cell_type": "markdown",
   "metadata": {
    "id": "7ZKq3rcf6uy9"
   },
   "source": [
    "**Masking data based on column value**\n",
    "\n",
    "In a dataframe we can filter a data based on a column value in order to filter data, we can apply certain conditions on the dataframe using different operators like **==, >, <, <=, >=**. When we apply these operators to the dataframe then it produces a Series of True and False."
   ]
  },
  {
   "cell_type": "code",
   "execution_count": null,
   "metadata": {
    "colab": {
     "base_uri": "https://localhost:8080/",
     "height": 173
    },
    "id": "gpRQLPdX6fRY",
    "outputId": "3a5ebfc6-e2e6-4def-c851-dc728b615766"
   },
   "outputs": [],
   "source": [
    "data = {'name':[\"Yair\", \"Ben\", \"Shir\", \"Natan\"],\n",
    "        'degree': [\"BCA\", \"BCA\", \"M.Tech\", \"BCA\"],\n",
    "        'score':[90, 40, 80, 98]}\n",
    " \n",
    "# creating a dataframe\n",
    "df = pd.DataFrame(data)\n",
    "\n",
    "df"
   ]
  },
  {
   "cell_type": "code",
   "execution_count": null,
   "metadata": {
    "colab": {
     "base_uri": "https://localhost:8080/"
    },
    "id": "4JecqVdt7g1m",
    "outputId": "6c18d9fb-41a7-4091-e852-e0c61e4b7f9c"
   },
   "outputs": [],
   "source": [
    "# In order to get the Boolean result\n",
    "print(df['degree'] == 'BCA')\n",
    "print()\n",
    "# In order to actually filter the DataFrame\n",
    "print(df[df['degree'] == 'BCA'])"
   ]
  },
  {
   "cell_type": "code",
   "execution_count": null,
   "metadata": {
    "colab": {
     "base_uri": "https://localhost:8080/"
    },
    "id": "wNxGLUVb7R7x",
    "outputId": "fda7bd39-ef8b-4bb5-8475-729ea27d2063"
   },
   "outputs": [],
   "source": [
    "# In order to get the Boolean result\n",
    "print(df['score'] >= 90)\n",
    "print()\n",
    "# In order to actually filter the DataFrame\n",
    "print(df[df['score'] >= 90])"
   ]
  },
  {
   "cell_type": "markdown",
   "metadata": {
    "id": "OsI8kRQR7vXC"
   },
   "source": [
    "In order to apply multiple conditions we can use \"&\" for \"and\", and \"|\" for or"
   ]
  },
  {
   "cell_type": "code",
   "execution_count": null,
   "metadata": {
    "colab": {
     "base_uri": "https://localhost:8080/"
    },
    "id": "PeTaNF7e73c0",
    "outputId": "3cc2291b-7a7f-49a7-b16b-211390029a5e"
   },
   "outputs": [],
   "source": [
    "# In order to get the Boolean result\n",
    "print((df['score'] >= 90) & ((df['degree'] == 'BCA')))\n",
    "print()\n",
    "# In order to actually filter the DataFrame\n",
    "print(df[(df['score'] >= 90) & ((df['degree'] == 'BCA'))])"
   ]
  },
  {
   "cell_type": "code",
   "execution_count": null,
   "metadata": {
    "colab": {
     "base_uri": "https://localhost:8080/"
    },
    "id": "APB-WhPb8HP7",
    "outputId": "96cdb24c-c3f2-4c34-d159-b33fe3f03d06"
   },
   "outputs": [],
   "source": [
    "# In order to get the Boolean result\n",
    "print((df['score'] >= 90) | ((df['degree'] == 'BCA')))\n",
    "print()\n",
    "# In order to actually filter the DataFrame\n",
    "print(df[(df['score'] >= 90) | ((df['degree'] == 'BCA'))])"
   ]
  },
  {
   "cell_type": "markdown",
   "metadata": {
    "id": "eBECL6Zt8Wvp"
   },
   "source": [
    "## Exercise 1\n",
    "\n",
    "1. Filter \"**df_a**\" based on \"Accessing a DataFrame with a boolean index\" to get **True** index only\n",
    "2. Filter \"**df_b**\" based on \"Masking data based on column value\" to get **score** **under** **85**\n",
    "3. Filter \"**df_b**\" based on \"Masking data based on column value\" to get **score** **under** **85** **and** **M.Tech** **degree**\n",
    "3. Filter \"**df_b**\" based on \"Masking data based on column value\" to get **score** **euqal and above** **55** **or** **BCA** **degree**"
   ]
  },
  {
   "cell_type": "code",
   "execution_count": null,
   "metadata": {
    "id": "mJJSvnHr9WF_"
   },
   "outputs": [],
   "source": [
    "data_a = {'name':[\"Yair\", \"Ben\", \"Shir\", \"Natan\"],\n",
    "        'degree': [\"MBA\", \"BCA\", \"M.Tech\", \"MBA\"],\n",
    "        'score':[90, 40, 80, 98]}\n",
    "df_a = pd.DataFrame(data_a, index = [True, False, True, False])\n",
    "  \n",
    "\n",
    "data_b = {'name':[\"Yair\", \"Ben\", \"Shir\", \"Natan\"],\n",
    "        'degree': [\"BCA\", \"BCA\", \"M.Tech\", \"BCA\"],\n",
    "        'score':[90, 40, 80, 98]}\n",
    "df_b = pd.DataFrame(data_b)"
   ]
  },
  {
   "cell_type": "code",
   "execution_count": null,
   "metadata": {
    "id": "YmOoUuR19T_R"
   },
   "outputs": [],
   "source": [
    "# YOUR CODE HERE"
   ]
  },
  {
   "cell_type": "markdown",
   "metadata": {
    "id": "h9vB1PUEA_87"
   },
   "source": [
    "## Getting Data In/Out\n",
    "When handling DataFrames, most of the times we would like to create a DataFrame from existing data saved in some local/remote storage, and after manipulating it - saving it in some local/remote storage"
   ]
  },
  {
   "cell_type": "markdown",
   "metadata": {
    "id": "qYbH5EHZBYaM"
   },
   "source": [
    "### CSV"
   ]
  },
  {
   "cell_type": "markdown",
   "metadata": {
    "id": "PcG86dIaBk-s"
   },
   "source": [
    "**.to_csv()** Write object to a comma-separated values (csv) file.\n",
    "\n",
    "https://pandas.pydata.org/docs/reference/api/pandas.DataFrame.to_csv.html"
   ]
  },
  {
   "cell_type": "code",
   "execution_count": null,
   "metadata": {
    "id": "CRsq-FtaBfxK"
   },
   "outputs": [],
   "source": [
    "data = {\n",
    "    'name': ['Ori', 'Yarin', 'Shir'],\n",
    "    'grades': [100, 100, 100]\n",
    "}\n",
    "\n",
    "df = pd.DataFrame(data)\n",
    "df.to_csv('/some/local/location/') # change this localtion"
   ]
  },
  {
   "cell_type": "markdown",
   "metadata": {
    "id": "1u-2ki3EB-uS"
   },
   "source": [
    "**.read_csv()** Read a comma-separated values (csv) file into DataFrame.\n",
    "\n",
    "https://pandas.pydata.org/pandas-docs/stable/reference/api/pandas.read_csv.html"
   ]
  },
  {
   "cell_type": "code",
   "execution_count": null,
   "metadata": {
    "colab": {
     "base_uri": "https://localhost:8080/",
     "height": 142
    },
    "id": "mi5aQUl-CKWS",
    "outputId": "0d556515-d77e-4f99-c1ad-6accf51171d1"
   },
   "outputs": [],
   "source": [
    "df = df.read_csv('/some/local/location/') # change this localtion\n",
    "df"
   ]
  },
  {
   "cell_type": "code",
   "execution_count": null,
   "metadata": {
    "colab": {
     "base_uri": "https://localhost:8080/",
     "height": 419
    },
    "id": "rOOz7I_RDgkz",
    "outputId": "327ac83b-6d00-4ab8-9e5d-1b79fa82d1f5"
   },
   "outputs": [],
   "source": [
    "# Sometimes we would like to read a csv from a remote storage, in order to do so we just provide \n",
    "# the link the data stored at, instead of a local path\n",
    "\n",
    "df = pd.read_csv(\"https://raw.githubusercontent.com/cs109/2014_data/master/countries.csv\")\n",
    "\n",
    "df"
   ]
  },
  {
   "cell_type": "markdown",
   "metadata": {
    "id": "aEYqQ4giC5F_"
   },
   "source": [
    "### Excel"
   ]
  },
  {
   "cell_type": "markdown",
   "metadata": {
    "id": "-59e0XUxC7l6"
   },
   "source": [
    "**.to_excel()** To write a single object to an Excel .xlsx file it is only necessary to specify a target file name. To write to multiple sheets it is necessary to create an ExcelWriter object with a target file name, and specify a sheet in the file to write to.\n",
    "\n",
    "https://pandas.pydata.org/docs/reference/api/pandas.DataFrame.to_excel.html"
   ]
  },
  {
   "cell_type": "markdown",
   "metadata": {
    "id": "0Cx-mBkkDG08"
   },
   "source": [
    "**.read_excel()** Read an Excel file into a pandas DataFrame.\n",
    "\n",
    "Supports xls, xlsx, xlsm, xlsb, odf, ods and odt file extensions read from a local filesystem or URL. Supports an option to read a single sheet or a list of sheets.\n",
    "\n",
    "https://pandas.pydata.org/pandas-docs/stable/reference/api/pandas.read_excel.html"
   ]
  },
  {
   "cell_type": "markdown",
   "metadata": {
    "id": "V7z66XR_CbDD"
   },
   "source": [
    "### HDF5"
   ]
  },
  {
   "cell_type": "markdown",
   "metadata": {
    "id": "NwrpKmG-CdbU"
   },
   "source": [
    "**.to_hdf()** Write the contained data to an HDF5 file using HDFStore.\n",
    "\n",
    "https://pandas.pydata.org/docs/reference/api/pandas.DataFrame.to_hdf.html"
   ]
  },
  {
   "cell_type": "markdown",
   "metadata": {
    "id": "93RPWXv3CprL"
   },
   "source": [
    "**.read_hdf()** read data from an HDF5 file using HDFStore.\n",
    "\n",
    "https://pandas.pydata.org/docs/reference/api/pandas.read_hdf.html"
   ]
  },
  {
   "cell_type": "markdown",
   "metadata": {
    "id": "8YcVfTamDuHd"
   },
   "source": [
    "## Sorting "
   ]
  },
  {
   "cell_type": "markdown",
   "metadata": {
    "id": "dmD69vc3FQWJ"
   },
   "source": [
    "### Sorting Index\n",
    "We use '**sort_index**' in order to sort the DataFrame based on the Index values\n",
    "https://pandas.pydata.org/docs/reference/api/pandas.DataFrame.sort_index.html"
   ]
  },
  {
   "cell_type": "code",
   "execution_count": null,
   "metadata": {
    "colab": {
     "base_uri": "https://localhost:8080/",
     "height": 204
    },
    "id": "BzZxjwujGsrX",
    "outputId": "be789aff-8dd9-4fa3-fdd8-c1d06ac7ad1f"
   },
   "outputs": [],
   "source": [
    "df = pd.DataFrame([10, 2, 35, 14, 25],\n",
    "                  index=[100, 29, 234, 1, 150],\n",
    "                  columns=['A'])\n",
    "df"
   ]
  },
  {
   "cell_type": "code",
   "execution_count": null,
   "metadata": {
    "colab": {
     "base_uri": "https://localhost:8080/",
     "height": 204
    },
    "id": "fS2HzL-3GvZT",
    "outputId": "1cc5d501-4897-4cb1-cf03-98401a115753"
   },
   "outputs": [],
   "source": [
    "df.sort_index()"
   ]
  },
  {
   "cell_type": "code",
   "execution_count": null,
   "metadata": {
    "colab": {
     "base_uri": "https://localhost:8080/",
     "height": 204
    },
    "id": "UL6RfXhXG89A",
    "outputId": "b1a6c624-78ba-4e37-f19b-e569436ef543"
   },
   "outputs": [],
   "source": [
    "# By default, it sorts in ascending order, to sort in descending order, use ascending=False\n",
    "df.sort_index(ascending=False)"
   ]
  },
  {
   "cell_type": "markdown",
   "metadata": {
    "id": "od--QtIJHrxs"
   },
   "source": [
    "## Sort Values\n",
    "\n",
    "We use '**sort_values**' in order to sort the DataFrame based on specific **columns** values\n",
    "\n",
    "https://pandas.pydata.org/docs/reference/api/pandas.DataFrame.sort_values.html"
   ]
  },
  {
   "cell_type": "code",
   "execution_count": null,
   "metadata": {
    "colab": {
     "base_uri": "https://localhost:8080/",
     "height": 266
    },
    "id": "NConx6E9IWdL",
    "outputId": "af47a826-ea76-40f2-87de-83c92b40d237"
   },
   "outputs": [],
   "source": [
    "df = pd.DataFrame({\n",
    "    'name': ['aaron', 'aaron', 'moshe', 'guy', 'ben', 'yarin', 'sharon'],\n",
    "    'math_grade': [53, 22, 78, 96, 84, 66, 77],\n",
    "    'CS_grade': [72, 75, 40, 45, 91, 95, 63]\n",
    "})\n",
    "df"
   ]
  },
  {
   "cell_type": "code",
   "execution_count": null,
   "metadata": {
    "colab": {
     "base_uri": "https://localhost:8080/",
     "height": 266
    },
    "id": "iWbQK0M4I53Z",
    "outputId": "78baad5f-2ea7-4339-82a8-e05333bb9432"
   },
   "outputs": [],
   "source": [
    "# Sort by 'name' column\n",
    "df.sort_values(by=['name']) # ascending=True"
   ]
  },
  {
   "cell_type": "code",
   "execution_count": null,
   "metadata": {
    "colab": {
     "base_uri": "https://localhost:8080/",
     "height": 266
    },
    "id": "7dmzZsP0JhdV",
    "outputId": "a79f2dbe-c719-4b9b-ddb4-9d2c7315b42a"
   },
   "outputs": [],
   "source": [
    "# Sort by multiple columns\n",
    "# first and then second\n",
    "\n",
    "df.sort_values(by=['name', 'math_grade'])"
   ]
  },
  {
   "cell_type": "code",
   "execution_count": null,
   "metadata": {
    "colab": {
     "base_uri": "https://localhost:8080/",
     "height": 266
    },
    "id": "84sLBMPmJ5yk",
    "outputId": "cfea109b-c29a-499c-f535-c6780d6fce29"
   },
   "outputs": [],
   "source": [
    "# Sort Descending\n",
    "\n",
    "df.sort_values(by='CS_grade', ascending=False)"
   ]
  },
  {
   "cell_type": "markdown",
   "metadata": {
    "id": "gtLbZsr_KLKM"
   },
   "source": [
    "## Exercise 2 \n",
    "1. Download and read the csv from \"https://media.geeksforgeeks.org/wp-content/uploads/nba.csv\"\n",
    "1. Slice the DataFrame until the **15th** row\n",
    "1. Sort the DataFrame's **Index** in a **descending** order\n",
    "1. Sort the DataFrame using \"**Number**\" column in **ascending** order\n",
    "1. Sort the DataFrame using \"**Name**\" and \"**Weight**\"\n",
    "1. Save DataFrame to a local location (of your choice)"
   ]
  },
  {
   "cell_type": "code",
   "execution_count": null,
   "metadata": {
    "id": "Z0qh1GLlLhkM"
   },
   "outputs": [],
   "source": [
    "# YOUR CODE HERE"
   ]
  },
  {
   "cell_type": "markdown",
   "metadata": {
    "id": "6QthaGRKuBFO"
   },
   "source": [
    "## Setting and Editing data"
   ]
  },
  {
   "cell_type": "markdown",
   "metadata": {
    "id": "PnpdJMIcuH8V"
   },
   "source": [
    "Sometimes we would like to change single value of few values, row or column wise"
   ]
  },
  {
   "cell_type": "code",
   "execution_count": null,
   "metadata": {
    "colab": {
     "base_uri": "https://localhost:8080/",
     "height": 142
    },
    "id": "ysGLbfg6uTqF",
    "outputId": "6c05433f-5e68-480d-b5b4-ce5cb3a0ad34"
   },
   "outputs": [],
   "source": [
    "data = {\n",
    "    'day': ['Sunday', 'Monday', 'Tuesday'],\n",
    "    'liters': [10, 15, 8]\n",
    "}\n",
    "\n",
    "df = pd.DataFrame(data)\n",
    "df"
   ]
  },
  {
   "cell_type": "markdown",
   "metadata": {
    "id": "wZEZ3xgbuwQ-"
   },
   "source": [
    "Change full column values"
   ]
  },
  {
   "cell_type": "code",
   "execution_count": null,
   "metadata": {
    "colab": {
     "base_uri": "https://localhost:8080/",
     "height": 142
    },
    "id": "o3N_CqQRuycH",
    "outputId": "47ecfa02-c4ce-43d9-f42d-0dd46d51e583"
   },
   "outputs": [],
   "source": [
    "new_liters_values = pd.Series([12, 55, 8])\n",
    "df['liters'] = new_liters_values\n",
    "\n",
    "df"
   ]
  },
  {
   "cell_type": "code",
   "execution_count": null,
   "metadata": {
    "colab": {
     "base_uri": "https://localhost:8080/",
     "height": 142
    },
    "id": "EJ7rdDDdu7_M",
    "outputId": "9ad501f4-87fb-4242-82cd-2d2bf305bf79"
   },
   "outputs": [],
   "source": [
    "# Indexes must be allign, otherwise we will get NaNs (np.nan)\n",
    "\n",
    "new_liters_values = pd.Series([12, 55, 8], index=[0, 2, 10])\n",
    "df['liters'] = new_liters_values\n",
    "\n",
    "df"
   ]
  },
  {
   "cell_type": "markdown",
   "metadata": {
    "id": "3gwPKfpqvOqO"
   },
   "source": [
    "Setting value for a subset of values"
   ]
  },
  {
   "cell_type": "code",
   "execution_count": null,
   "metadata": {
    "colab": {
     "base_uri": "https://localhost:8080/",
     "height": 142
    },
    "id": "u49905kfvTai",
    "outputId": "256e890a-1652-4e03-add6-6ee18c8e1034"
   },
   "outputs": [],
   "source": [
    "df.loc[[0, 1], 'liters'] = 1 # change the values of first and second rows' liters value to 1\n",
    "df"
   ]
  },
  {
   "cell_type": "markdown",
   "metadata": {
    "id": "eDm6LT_evnVI"
   },
   "source": [
    "Setting value of a specific cell, by position"
   ]
  },
  {
   "cell_type": "code",
   "execution_count": null,
   "metadata": {
    "colab": {
     "base_uri": "https://localhost:8080/",
     "height": 142
    },
    "id": "iXuAjxlkvkNe",
    "outputId": "a75cd188-f649-4746-d7fd-7e4c3aef6e82"
   },
   "outputs": [],
   "source": [
    "df.iloc[-1, 1] = 2 # last row, second column df.loc[-1, 'liters'] = 2\n",
    "df"
   ]
  },
  {
   "cell_type": "markdown",
   "metadata": {
    "id": "mC47_WJYv-nw"
   },
   "source": [
    "Setting values using NumPy Array"
   ]
  },
  {
   "cell_type": "code",
   "execution_count": null,
   "metadata": {
    "colab": {
     "base_uri": "https://localhost:8080/",
     "height": 142
    },
    "id": "c3KiGYoEwDH8",
    "outputId": "cc57cd37-e0d8-46af-a1de-c26ac4e00ca8"
   },
   "outputs": [],
   "source": [
    "# Reminder: in order to get dimensions of DataFrame - use df.shape -> (rows num, columns num)\n",
    "\n",
    "df.loc[:, 'liters'] = np.array([42] * df.shape[0])\n",
    "df "
   ]
  },
  {
   "cell_type": "markdown",
   "metadata": {
    "id": "VbqpRQqgywdj"
   },
   "source": [
    "Setting values using a function\n"
   ]
  },
  {
   "cell_type": "code",
   "execution_count": null,
   "metadata": {
    "colab": {
     "base_uri": "https://localhost:8080/",
     "height": 142
    },
    "id": "aV3ZnVmby51C",
    "outputId": "967480eb-bbbf-416d-db47-ce0b56c9d951"
   },
   "outputs": [],
   "source": [
    "df['liters'] = df['liters'].apply(lambda x: x + 10) # adds 10 to each value in 'liters' column\n",
    "df"
   ]
  },
  {
   "cell_type": "markdown",
   "metadata": {
    "id": "ejOH6I0qwZYI"
   },
   "source": [
    "Setting values based on a condition"
   ]
  },
  {
   "cell_type": "code",
   "execution_count": null,
   "metadata": {
    "colab": {
     "base_uri": "https://localhost:8080/",
     "height": 142
    },
    "id": "i-vOcTwSwj0I",
    "outputId": "eb498b9f-9551-4081-f42e-ebc37429399c"
   },
   "outputs": [],
   "source": [
    "data = {\n",
    "    'day': ['Sunday', 'Monday', 'Tuesday'],\n",
    "    'liters': [10, 15, 8]\n",
    "}\n",
    "\n",
    "df = pd.DataFrame(data)\n",
    "df"
   ]
  },
  {
   "cell_type": "code",
   "execution_count": null,
   "metadata": {
    "colab": {
     "base_uri": "https://localhost:8080/",
     "height": 142
    },
    "id": "FDFCoMj7w6RC",
    "outputId": "7dc9d185-1543-4c4a-f2bb-fe48a7e9a6cb"
   },
   "outputs": [],
   "source": [
    "df_2 = df.copy()\n",
    "df_2"
   ]
  },
  {
   "cell_type": "code",
   "execution_count": null,
   "metadata": {
    "colab": {
     "base_uri": "https://localhost:8080/",
     "height": 142
    },
    "id": "eLkPmRkDwdXG",
    "outputId": "82bbe48a-0119-4aae-84fc-80e96080585a"
   },
   "outputs": [],
   "source": [
    "df_2[df_2['liters'] % 2 == 0] = 0\n",
    "df_2"
   ]
  },
  {
   "cell_type": "code",
   "execution_count": null,
   "metadata": {
    "colab": {
     "base_uri": "https://localhost:8080/",
     "height": 227
    },
    "id": "jANGBRFlw49B",
    "outputId": "60b86cfc-82e8-4d8f-bf62-3d760c4a03f8"
   },
   "outputs": [],
   "source": [
    "df_2['liters'][df_2['liters'] % 2 == 0] = 0\n",
    "df_2"
   ]
  },
  {
   "cell_type": "markdown",
   "metadata": {
    "id": "lbqZOLuZ0rWD"
   },
   "source": [
    "## Exercise 3\n",
    "\n",
    "1. Download and read the csv from \"https://media.geeksforgeeks.org/wp-content/uploads/nba.csv\"\n",
    "1. Slice the DataFrame until the **15th** row\n",
    "1. Change **all** values in '**Height**' column to **180**\n",
    "1. Change the value of the **first and second** players' '**Number**' to **100**\n",
    "1. Change the '**Age**' of players playing in '**Position**' '**PF**' to **50**\n",
    "1. Increase the \"**Salary**\" of all players by **10** using **df.apply(lambda function)**"
   ]
  },
  {
   "cell_type": "code",
   "execution_count": null,
   "metadata": {
    "id": "E0oMLQGDRqQz"
   },
   "outputs": [],
   "source": [
    "# YOUR CODE HERE"
   ]
  },
  {
   "cell_type": "markdown",
   "metadata": {
    "id": "EF8snZ2CEzub"
   },
   "source": [
    "## Mathmatical and Statistical Operations\n",
    "\n",
    "Just like on plain Python Objects and NumPy Arrays, pandas support variety of mathmatical and statistical operations on Series and DataFrames"
   ]
  },
  {
   "cell_type": "code",
   "execution_count": null,
   "metadata": {
    "colab": {
     "base_uri": "https://localhost:8080/"
    },
    "id": "1OPzkp5KHTKk",
    "outputId": "7b85f273-9ea2-4fce-a28a-bbe3b47db76e"
   },
   "outputs": [],
   "source": [
    "s = pd.Series([10, 20, -10])\n",
    "s"
   ]
  },
  {
   "cell_type": "code",
   "execution_count": null,
   "metadata": {
    "colab": {
     "base_uri": "https://localhost:8080/",
     "height": 142
    },
    "id": "ZA0jxHVYFTJe",
    "outputId": "cdcc5d1e-b5cb-46d1-dd1e-0af4b1bdc0d4"
   },
   "outputs": [],
   "source": [
    "data = {\n",
    "    'a': [10, 15, 20],\n",
    "    'b': [3, 9, -16],\n",
    "    'c': [-1, -10, -7]\n",
    "}\n",
    "\n",
    "df = pd.DataFrame(data)\n",
    "df"
   ]
  },
  {
   "cell_type": "code",
   "execution_count": null,
   "metadata": {
    "colab": {
     "base_uri": "https://localhost:8080/"
    },
    "id": "WXPXY1_CF4XB",
    "outputId": "beeb8751-36a7-4edf-8062-437330d9ec24"
   },
   "outputs": [],
   "source": [
    "# Absolute values\n",
    "\n",
    "print(s.abs())\n",
    "print()\n",
    "print(df.abs())"
   ]
  },
  {
   "cell_type": "code",
   "execution_count": null,
   "metadata": {
    "colab": {
     "base_uri": "https://localhost:8080/"
    },
    "id": "jXw6wYRuHxK5",
    "outputId": "d7839a2a-aa09-4906-cd4d-709238df5590"
   },
   "outputs": [],
   "source": [
    "# Add a scalar with operator version which return the same results.\n",
    "\n",
    "print(df + 1)\n",
    "print(df.add(1))\n",
    "print()\n",
    "\n",
    "print(df.add([1, 2, 3])) # print(df.add([1, 2, 3], axis=1))\n",
    "print(df.add([1, 2, 3], axis=0))"
   ]
  },
  {
   "cell_type": "code",
   "execution_count": null,
   "metadata": {
    "colab": {
     "base_uri": "https://localhost:8080/"
    },
    "id": "Ke94V7ZFIGCC",
    "outputId": "fd842483-c714-4f1e-ef3c-e6a1e1ae819b"
   },
   "outputs": [],
   "source": [
    "# Subtract a list and Series by axis with operator version.\n",
    "\n",
    "print(df - 1)\n",
    "print(df.sub(1))\n",
    "print()\n",
    "\n",
    "print(df.sub([1, 2, 3])) # print(df.sub([1, 2, 3], axis=1))\n",
    "print(df.sub([1, 2, 3], axis=0))"
   ]
  },
  {
   "cell_type": "code",
   "execution_count": null,
   "metadata": {
    "colab": {
     "base_uri": "https://localhost:8080/"
    },
    "id": "EzRTwMD8IWs3",
    "outputId": "72bb2888-5bea-45de-92ae-0d7d3dd657c2"
   },
   "outputs": [],
   "source": [
    "# Multiply a DataFrame of different shape with operator version.\n",
    "\n",
    "print(df * 2)\n",
    "print(df.mul(2))\n",
    "print(df.mul(2, fill_value=0)) # in case of NaN values in the DataFrame\n",
    "print()\n",
    "\n",
    "print(df.mul([1, 2, 3])) # print(df.mul([1, 2, 3], axis=1))\n",
    "print(df.mul([1, 2, 3], axis=0))"
   ]
  },
  {
   "cell_type": "code",
   "execution_count": null,
   "metadata": {
    "colab": {
     "base_uri": "https://localhost:8080/"
    },
    "id": "fDSfgUUIH8WG",
    "outputId": "77eb05be-ecea-48a1-eb63-2d826e878860"
   },
   "outputs": [],
   "source": [
    "# Divide by constant\n",
    "\n",
    "print(df / 2)\n",
    "print(df.div(2))\n",
    "print(df.div(2, fill_value=0)) # in case of NaN values in the DataFrame\n",
    "print()\n",
    "\n",
    "print(df.div([1, 2, 3])) # print(df.div([1, 2, 3], axis=1))\n",
    "print(df.div([1, 2, 3], axis=0))"
   ]
  },
  {
   "cell_type": "code",
   "execution_count": null,
   "metadata": {
    "colab": {
     "base_uri": "https://localhost:8080/"
    },
    "id": "Mqbr2cAEIrCw",
    "outputId": "043ce9f0-576b-4385-a83c-8ae62a34f705"
   },
   "outputs": [],
   "source": [
    "# Calculate exponential power.\n",
    "\n",
    "print(df ** 2)\n",
    "print(df.pow(2))\n",
    "print(df.pow(2, fill_value=0)) # in case of NaN values in the DataFrame\n",
    "print()\n",
    "\n",
    "print(df.pow([1, 2, 3])) # print(df.pow([1, 2, 3], axis=1))\n",
    "print(df.pow([1, 2, 3], axis=0))"
   ]
  },
  {
   "cell_type": "code",
   "execution_count": null,
   "metadata": {
    "colab": {
     "base_uri": "https://localhost:8080/"
    },
    "id": "nQaV-_qsL7C4",
    "outputId": "b351b557-36b0-4253-d784-b3d1205edb2f"
   },
   "outputs": [],
   "source": [
    "# Calculate any root.\n",
    "# df.pow(1 / N)\n",
    "\n",
    "# Squared root\n",
    "print(df.pow(1 / 2))\n",
    "# Cubic root\n",
    "print(df.pow(1 / 3))"
   ]
  },
  {
   "cell_type": "code",
   "execution_count": null,
   "metadata": {
    "colab": {
     "base_uri": "https://localhost:8080/"
    },
    "id": "ECQU4hppFDBC",
    "outputId": "9b97b51b-3011-4c41-b083-fc64d46ebf6b"
   },
   "outputs": [],
   "source": [
    "# Sum\n",
    "\n",
    "print(s.sum())\n",
    "print()\n",
    "\n",
    "print(df.sum()) # df.sum(axis=0)\n",
    "print()\n",
    "print(df.sum(axis=1))"
   ]
  },
  {
   "cell_type": "code",
   "execution_count": null,
   "metadata": {
    "colab": {
     "base_uri": "https://localhost:8080/"
    },
    "id": "BZqzaCPnLeNx",
    "outputId": "6d712d23-fdd3-43eb-ffe3-2a67e558374f"
   },
   "outputs": [],
   "source": [
    "# calculate variation\n",
    "# Normalized by N-1 by default. This can be changed using the ddof argument\n",
    "# The divisor used in calculations is N - ddof, where N represents the number of elements.\n",
    "\n",
    "print(df.var())\n",
    "print(df.var(ddof=0))"
   ]
  },
  {
   "cell_type": "code",
   "execution_count": null,
   "metadata": {
    "colab": {
     "base_uri": "https://localhost:8080/"
    },
    "id": "Z_20eAKCK9TO",
    "outputId": "77c6c3cb-75ea-4a19-a838-72e5a080d6aa"
   },
   "outputs": [],
   "source": [
    "# calculate standard deviation\n",
    "# Normalized by N-1 by default. This can be changed using the ddof argument\n",
    "# The divisor used in calculations is N - ddof, where N represents the number of elements.\n",
    "\n",
    "print(df.std())\n",
    "print(df.std(ddof=0))"
   ]
  },
  {
   "cell_type": "code",
   "execution_count": null,
   "metadata": {
    "colab": {
     "base_uri": "https://localhost:8080/"
    },
    "id": "a85vHUgsLyyo",
    "outputId": "f9614048-07bf-4390-c8f0-f73cc584cf36"
   },
   "outputs": [],
   "source": [
    "# Return the minimum of the values over the requested axis.\n",
    "print(df.min())\n",
    "print(df.min(axis=1))\n",
    "print()\n",
    "\n",
    "# Return the index of the minimum of the values over the requested axis.\n",
    "print(df.idxmin())\n",
    "print(df.idxmin(axis=1))"
   ]
  },
  {
   "cell_type": "code",
   "execution_count": null,
   "metadata": {
    "colab": {
     "base_uri": "https://localhost:8080/"
    },
    "id": "62aJb0lEGN2y",
    "outputId": "81518559-ac5c-465c-8a1e-7e6abbe021eb"
   },
   "outputs": [],
   "source": [
    "# Return the maximum of the values over the requested axis.\n",
    "print(df.max())\n",
    "print(df.max(axis=1))\n",
    "print()\n",
    "\n",
    "# Return the index of the maximum of the values over the requested axis.\n",
    "print(df.idxmax())\n",
    "print(df.idxmax(axis=1))"
   ]
  },
  {
   "cell_type": "code",
   "execution_count": null,
   "metadata": {
    "id": "r9_nrOEqOJQb"
   },
   "outputs": [],
   "source": [
    "# Operations between Series and DataFrames"
   ]
  },
  {
   "cell_type": "code",
   "execution_count": null,
   "metadata": {
    "colab": {
     "base_uri": "https://localhost:8080/"
    },
    "id": "P4KPirnCOQZl",
    "outputId": "55a2b91c-60a7-4aba-dbdc-66a21b2c36b3"
   },
   "outputs": [],
   "source": [
    "s"
   ]
  },
  {
   "cell_type": "code",
   "execution_count": null,
   "metadata": {
    "colab": {
     "base_uri": "https://localhost:8080/",
     "height": 142
    },
    "id": "KmwPNSQZORiK",
    "outputId": "8ba782f0-9f0b-4f54-ff17-8f8c8479bcb0"
   },
   "outputs": [],
   "source": [
    "df"
   ]
  },
  {
   "cell_type": "code",
   "execution_count": null,
   "metadata": {
    "colab": {
     "base_uri": "https://localhost:8080/"
    },
    "id": "Wqtx3b0UOFEU",
    "outputId": "0a449678-13a8-4840-d7e8-160e89199ef2"
   },
   "outputs": [],
   "source": [
    "# Series-Series operation\n",
    "\n",
    "s.mul(s)"
   ]
  },
  {
   "cell_type": "code",
   "execution_count": null,
   "metadata": {
    "colab": {
     "base_uri": "https://localhost:8080/",
     "height": 142
    },
    "id": "JR2PKxxfOZDc",
    "outputId": "a7197b23-bc20-4f91-d79d-ebfccbfd7bdc"
   },
   "outputs": [],
   "source": [
    "# Series-DataFrame operation\n",
    "\n",
    "df.mul(s, axis=0)"
   ]
  },
  {
   "cell_type": "code",
   "execution_count": null,
   "metadata": {
    "colab": {
     "base_uri": "https://localhost:8080/",
     "height": 142
    },
    "id": "ZrR-vRCIOsKi",
    "outputId": "c154f592-33a7-4253-84d0-5a55ee9c99d2"
   },
   "outputs": [],
   "source": [
    "# DataFrame-DataFrame operation\n",
    "\n",
    "df.mul(df)"
   ]
  },
  {
   "cell_type": "markdown",
   "metadata": {
    "id": "qZLOHnJ92qXQ"
   },
   "source": [
    "## Merge Dataframes"
   ]
  },
  {
   "cell_type": "markdown",
   "metadata": {
    "id": "z304UNDH2w_z"
   },
   "source": [
    "### Concat\n",
    "\n",
    "pandas provides various facilities for easily combining together Series, DataFrame, and Panel objects with various kinds of set logic for the indexes and relational algebra functionality in the case of join / merge-type operations.\n",
    "\n",
    "https://pandas.pydata.org/pandas-docs/stable/reference/api/pandas.concat.html\n",
    "\n",
    "**pandas.concat(objs, axis=0, join='outer', ignore_index=False, keys=None, levels=None, names=None, verify_integrity=False, sort=False, copy=True)**"
   ]
  },
  {
   "cell_type": "markdown",
   "metadata": {
    "id": "CDRk-8Qz21l1"
   },
   "source": [
    "Concatenating pandas objects together with concat():"
   ]
  },
  {
   "cell_type": "code",
   "execution_count": null,
   "metadata": {
    "colab": {
     "base_uri": "https://localhost:8080/"
    },
    "id": "-Dv-HN_w2zCs",
    "outputId": "f7cc3410-9264-4387-c0ef-5fdf431d8767"
   },
   "outputs": [],
   "source": [
    "data_1 = {\n",
    "    'name': ['Yair', 'Moshe'],\n",
    "    'grade': [100, 100]\n",
    "}\n",
    "\n",
    "data_2 = {\n",
    "    'name': ['Ben', 'Shir'],\n",
    "    'grade': [85, 94]\n",
    "}\n",
    "\n",
    "df_1 = pd.DataFrame(data_1)\n",
    "df_2 = pd.DataFrame(data_2)\n",
    "\n",
    "print(df_1)\n",
    "print(df_2)"
   ]
  },
  {
   "cell_type": "code",
   "execution_count": null,
   "metadata": {
    "colab": {
     "base_uri": "https://localhost:8080/",
     "height": 173
    },
    "id": "HezGNQkg3KKV",
    "outputId": "44fcc2aa-602b-462a-882c-2b884f9bb9ab"
   },
   "outputs": [],
   "source": [
    "# Combine 2 DataFrames\n",
    "\n",
    "pd.concat([df_1, df_2])"
   ]
  },
  {
   "cell_type": "code",
   "execution_count": null,
   "metadata": {
    "colab": {
     "base_uri": "https://localhost:8080/",
     "height": 173
    },
    "id": "IAHxNCxT4OmY",
    "outputId": "ccfe2e60-2771-4d7f-9b0f-5627730b5d0f"
   },
   "outputs": [],
   "source": [
    "# Clear the existing index and reset it in the result by setting the ignore_index option to True.\n",
    "\n",
    "pd.concat([df_1, df_2], ignore_index=True)"
   ]
  },
  {
   "cell_type": "markdown",
   "metadata": {
    "id": "agAuxJ453YrO"
   },
   "source": [
    "### Merge\n",
    "SQL style merges. See the [Database style joining](http://pandas.pydata.org/pandas-docs/stable/merging.html#merging-join)\n",
    "\n",
    "https://pandas.pydata.org/pandas-docs/stable/reference/api/pandas.DataFrame.merge.html\n",
    "\n",
    "**DataFrame.merge(right, how='inner', on=None, left_on=None, right_on=None, left_index=False, right_index=False, sort=False, suffixes=('_x', '_y'), copy=True, indicator=False, validate=None)**"
   ]
  },
  {
   "cell_type": "code",
   "execution_count": null,
   "metadata": {
    "colab": {
     "base_uri": "https://localhost:8080/"
    },
    "id": "7RW2Hn-63PoP",
    "outputId": "ffbb8c24-a1e1-4a44-9e8d-e01ab6f1f36d"
   },
   "outputs": [],
   "source": [
    "df1 = pd.DataFrame({'lkey': ['foo', 'bar', 'baz', 'foo'],\n",
    "                    'value': [1, 2, 3, 5]})\n",
    "df2 = pd.DataFrame({'rkey': ['foo', 'bar', 'baz', 'foo'],\n",
    "                    'value': [5, 6, 7, 8]})\n",
    "\n",
    "print(df1)\n",
    "print()\n",
    "print(df2)"
   ]
  },
  {
   "cell_type": "markdown",
   "metadata": {
    "id": "YangjHl-4p7z"
   },
   "source": [
    "Merge df1 and df2 on the lkey and rkey columns. The value columns have the default suffixes, _x and _y, appended."
   ]
  },
  {
   "cell_type": "code",
   "execution_count": null,
   "metadata": {
    "colab": {
     "base_uri": "https://localhost:8080/",
     "height": 235
    },
    "id": "6byB21074lg0",
    "outputId": "582c40bb-87eb-4c93-ba95-4a2f615b360a"
   },
   "outputs": [],
   "source": [
    "df1.merge(df2, left_on='lkey', right_on='rkey')\n"
   ]
  },
  {
   "cell_type": "markdown",
   "metadata": {
    "id": "809DDWht5UT-"
   },
   "source": [
    "Merge DataFrames df1 and df2 with specified left and right suffixes appended to any overlapping columns.\n",
    "\n"
   ]
  },
  {
   "cell_type": "code",
   "execution_count": null,
   "metadata": {
    "colab": {
     "base_uri": "https://localhost:8080/",
     "height": 235
    },
    "id": "KgauukH35ZEN",
    "outputId": "26863868-be66-4ad4-f270-a018c036183a"
   },
   "outputs": [],
   "source": [
    "df1.merge(df2, left_on='lkey', right_on='rkey',\n",
    "          suffixes=('_left', '_right'))"
   ]
  },
  {
   "cell_type": "markdown",
   "metadata": {
    "id": "Qsg5IqsO5feS"
   },
   "source": [
    "### Append\n",
    "\n",
    "Append rows to a dataframe.\n",
    "\n",
    "http://pandas.pydata.org/pandas-docs/stable/merging.html#merging-concatenation\n",
    "\n",
    "**DataFrame.append(other, ignore_index=False, verify_integrity=False, sort=False)**"
   ]
  },
  {
   "cell_type": "code",
   "execution_count": null,
   "metadata": {
    "colab": {
     "base_uri": "https://localhost:8080/",
     "height": 297
    },
    "id": "34iKmrrU5blV",
    "outputId": "001fb5b3-11e0-4223-dc6a-c5b93520b025"
   },
   "outputs": [],
   "source": [
    "df = pd.DataFrame(np.random.randn(8, 4), columns=['A','B','C','D'])\n",
    "df"
   ]
  },
  {
   "cell_type": "code",
   "execution_count": null,
   "metadata": {
    "colab": {
     "base_uri": "https://localhost:8080/"
    },
    "id": "LpWVPe_15zim",
    "outputId": "30b6dac4-5eaf-497b-8a7a-e48dc1b27a47"
   },
   "outputs": [],
   "source": [
    "s = df.iloc[3]\n",
    "s"
   ]
  },
  {
   "cell_type": "code",
   "execution_count": null,
   "metadata": {
    "colab": {
     "base_uri": "https://localhost:8080/",
     "height": 328
    },
    "id": "edttN9HY54ad",
    "outputId": "4d395b58-aa92-477b-f02b-02bcd90078ec"
   },
   "outputs": [],
   "source": [
    "df.append(s, ignore_index=True)"
   ]
  },
  {
   "cell_type": "markdown",
   "metadata": {
    "id": "gVlpvVAX6Syy"
   },
   "source": [
    "General note: **Append** function will add rows of second data frame to first dataframe **iteratively** one by one. **Concat** function will do a **single** operation to finish the job, which makes it **faster** than append()\n",
    "\n",
    "* **Concat** gives the flexibility to join based on the axis( all rows or all columns)\n",
    "* **Append** is the specific case(axis=0, join='outer') of concat"
   ]
  },
  {
   "cell_type": "markdown",
   "metadata": {
    "id": "0mg8lG3a6lW3"
   },
   "source": [
    "### Statstics on the data\n",
    "\n",
    "https://pandas.pydata.org/docs/getting_started/intro_tutorials/06_calculate_statistics.html"
   ]
  },
  {
   "cell_type": "code",
   "execution_count": null,
   "metadata": {
    "colab": {
     "base_uri": "https://localhost:8080/",
     "height": 419
    },
    "id": "GO69j5hs6rMp",
    "outputId": "2a51cd75-aff4-4154-a874-7c2268b084f4"
   },
   "outputs": [],
   "source": [
    "df = pd.read_csv(\"https://media.geeksforgeeks.org/wp-content/uploads/nba.csv\")\n",
    "df"
   ]
  },
  {
   "cell_type": "markdown",
   "metadata": {
    "id": "1BkjRgIA6lz9"
   },
   "source": [
    "Describe shows a quick statistic summary of your data"
   ]
  },
  {
   "cell_type": "code",
   "execution_count": null,
   "metadata": {
    "colab": {
     "base_uri": "https://localhost:8080/",
     "height": 297
    },
    "id": "139hZo6N6oDw",
    "outputId": "d508d556-67ab-4dee-82ee-f1ee2ca15d17"
   },
   "outputs": [],
   "source": [
    "df.describe()"
   ]
  },
  {
   "cell_type": "markdown",
   "metadata": {
    "id": "es75ecxs6ywM"
   },
   "source": [
    "Performing a descriptive statistic"
   ]
  },
  {
   "cell_type": "code",
   "execution_count": null,
   "metadata": {
    "colab": {
     "base_uri": "https://localhost:8080/"
    },
    "id": "ITgqtUrA58W5",
    "outputId": "dce32f68-5d7c-4da6-ce51-d48fd28478f2"
   },
   "outputs": [],
   "source": [
    "df.mean()"
   ]
  },
  {
   "cell_type": "markdown",
   "metadata": {
    "id": "cfPf2CjP66NQ"
   },
   "source": [
    "Same operation on the rows axis"
   ]
  },
  {
   "cell_type": "code",
   "execution_count": null,
   "metadata": {
    "colab": {
     "base_uri": "https://localhost:8080/"
    },
    "id": "2fHLqW5C61tw",
    "outputId": "e62e3e8c-24a7-4fe8-da4b-ffe277ee9e2f"
   },
   "outputs": [],
   "source": [
    "df.mean(axis=1)"
   ]
  }
 ],
 "metadata": {
  "colab": {
   "collapsed_sections": [],
   "name": "Pandas_Tutorial_Part_2_Student_Ver.ipynb",
   "provenance": []
  },
  "kernelspec": {
   "display_name": "Python 3 (ipykernel)",
   "language": "python",
   "name": "python3"
  },
  "language_info": {
   "codemirror_mode": {
    "name": "ipython",
    "version": 3
   },
   "file_extension": ".py",
   "mimetype": "text/x-python",
   "name": "python",
   "nbconvert_exporter": "python",
   "pygments_lexer": "ipython3",
   "version": "3.7.12"
  }
 },
 "nbformat": 4,
 "nbformat_minor": 1
}
