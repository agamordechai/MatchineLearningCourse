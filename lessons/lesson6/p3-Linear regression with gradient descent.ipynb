{
 "cells": [
  {
   "cell_type": "code",
   "execution_count": 1,
   "metadata": {
    "ExecuteTime": {
     "end_time": "2023-04-20T17:25:00.078124Z",
     "start_time": "2023-04-20T17:24:58.216339Z"
    },
    "executionInfo": {
     "elapsed": 499,
     "status": "ok",
     "timestamp": 1629223290319,
     "user": {
      "displayName": "koby mike",
      "photoUrl": "https://lh3.googleusercontent.com/a-/AOh14GiwebWyFla1Q83A7MWAJDkFiPJrOCs6ytetpwh-=s64",
      "userId": "14272159066583388929"
     },
     "user_tz": -180
    },
    "id": "ipR49SaK4oZ8"
   },
   "outputs": [],
   "source": [
    "import pandas as pd\n",
    "import numpy as np\n",
    "import seaborn as sns\n",
    "import matplotlib.pyplot as plt"
   ]
  },
  {
   "cell_type": "code",
   "execution_count": 2,
   "metadata": {
    "ExecuteTime": {
     "end_time": "2023-04-20T17:25:00.882298Z",
     "start_time": "2023-04-20T17:25:00.842268Z"
    },
    "colab": {
     "base_uri": "https://localhost:8080/",
     "height": 205
    },
    "executionInfo": {
     "elapsed": 12,
     "status": "ok",
     "timestamp": 1629223290320,
     "user": {
      "displayName": "koby mike",
      "photoUrl": "https://lh3.googleusercontent.com/a-/AOh14GiwebWyFla1Q83A7MWAJDkFiPJrOCs6ytetpwh-=s64",
      "userId": "14272159066583388929"
     },
     "user_tz": -180
    },
    "id": "rUuqOpqO4wsS",
    "outputId": "b25e1201-223c-41f8-ec67-cab69f049e4a"
   },
   "outputs": [
    {
     "data": {
      "text/html": [
       "<div>\n",
       "<style scoped>\n",
       "    .dataframe tbody tr th:only-of-type {\n",
       "        vertical-align: middle;\n",
       "    }\n",
       "\n",
       "    .dataframe tbody tr th {\n",
       "        vertical-align: top;\n",
       "    }\n",
       "\n",
       "    .dataframe thead th {\n",
       "        text-align: right;\n",
       "    }\n",
       "</style>\n",
       "<table border=\"1\" class=\"dataframe\">\n",
       "  <thead>\n",
       "    <tr style=\"text-align: right;\">\n",
       "      <th></th>\n",
       "      <th>sepal length (cm)</th>\n",
       "      <th>sepal width (cm)</th>\n",
       "      <th>petal length (cm)</th>\n",
       "      <th>petal width (cm)</th>\n",
       "      <th>iris_type</th>\n",
       "    </tr>\n",
       "  </thead>\n",
       "  <tbody>\n",
       "    <tr>\n",
       "      <th>0</th>\n",
       "      <td>6.0</td>\n",
       "      <td>2.2</td>\n",
       "      <td>5.0</td>\n",
       "      <td>1.5</td>\n",
       "      <td>2</td>\n",
       "    </tr>\n",
       "    <tr>\n",
       "      <th>1</th>\n",
       "      <td>6.4</td>\n",
       "      <td>2.8</td>\n",
       "      <td>5.6</td>\n",
       "      <td>2.1</td>\n",
       "      <td>2</td>\n",
       "    </tr>\n",
       "    <tr>\n",
       "      <th>2</th>\n",
       "      <td>7.7</td>\n",
       "      <td>3.0</td>\n",
       "      <td>6.1</td>\n",
       "      <td>2.3</td>\n",
       "      <td>2</td>\n",
       "    </tr>\n",
       "    <tr>\n",
       "      <th>3</th>\n",
       "      <td>6.1</td>\n",
       "      <td>3.0</td>\n",
       "      <td>4.6</td>\n",
       "      <td>1.4</td>\n",
       "      <td>1</td>\n",
       "    </tr>\n",
       "    <tr>\n",
       "      <th>4</th>\n",
       "      <td>6.8</td>\n",
       "      <td>3.0</td>\n",
       "      <td>5.5</td>\n",
       "      <td>2.1</td>\n",
       "      <td>2</td>\n",
       "    </tr>\n",
       "  </tbody>\n",
       "</table>\n",
       "</div>"
      ],
      "text/plain": [
       "   sepal length (cm)  sepal width (cm)  petal length (cm)  petal width (cm)  \\\n",
       "0                6.0               2.2                5.0               1.5   \n",
       "1                6.4               2.8                5.6               2.1   \n",
       "2                7.7               3.0                6.1               2.3   \n",
       "3                6.1               3.0                4.6               1.4   \n",
       "4                6.8               3.0                5.5               2.1   \n",
       "\n",
       "   iris_type  \n",
       "0          2  \n",
       "1          2  \n",
       "2          2  \n",
       "3          1  \n",
       "4          2  "
      ]
     },
     "execution_count": 2,
     "metadata": {},
     "output_type": "execute_result"
    }
   ],
   "source": [
    "df = pd.read_csv('iris_train_set.csv')\n",
    "df.head()"
   ]
  },
  {
   "cell_type": "code",
   "execution_count": 3,
   "metadata": {
    "ExecuteTime": {
     "end_time": "2023-04-20T17:25:05.075532Z",
     "start_time": "2023-04-20T17:25:04.806496Z"
    },
    "colab": {
     "base_uri": "https://localhost:8080/",
     "height": 279
    },
    "executionInfo": {
     "elapsed": 9,
     "status": "ok",
     "timestamp": 1629223290320,
     "user": {
      "displayName": "koby mike",
      "photoUrl": "https://lh3.googleusercontent.com/a-/AOh14GiwebWyFla1Q83A7MWAJDkFiPJrOCs6ytetpwh-=s64",
      "userId": "14272159066583388929"
     },
     "user_tz": -180
    },
    "id": "ZqmORcUP48NH",
    "outputId": "0373777f-2877-44c0-c983-cf36064d4d98"
   },
   "outputs": [
    {
     "data": {
      "text/plain": [
       "<Axes: xlabel='petal length (cm)', ylabel='petal width (cm)'>"
      ]
     },
     "execution_count": 3,
     "metadata": {},
     "output_type": "execute_result"
    },
    {
     "data": {
      "image/png": "[encoded data removed]",
      "text/plain": [
       "<Figure size 640x480 with 1 Axes>"
      ]
     },
     "metadata": {},
     "output_type": "display_data"
    }
   ],
   "source": [
    "X=df['petal length (cm)']\n",
    "y=df['petal width (cm)']\n",
    "sns.scatterplot(data=df,x='petal length (cm)',y='petal width (cm)')"
   ]
  },
  {
   "cell_type": "code",
   "execution_count": 10,
   "metadata": {
    "ExecuteTime": {
     "end_time": "2023-04-20T17:26:07.462462Z",
     "start_time": "2023-04-20T17:26:07.445466Z"
    },
    "executionInfo": {
     "elapsed": 8,
     "status": "ok",
     "timestamp": 1629223290320,
     "user": {
      "displayName": "koby mike",
      "photoUrl": "https://lh3.googleusercontent.com/a-/AOh14GiwebWyFla1Q83A7MWAJDkFiPJrOCs6ytetpwh-=s64",
      "userId": "14272159066583388929"
     },
     "user_tz": -180
    },
    "id": "6N4RQdmOPP2O"
   },
   "outputs": [],
   "source": [
    "def plot_reg(w1,w0,X,y):\n",
    "  sns.scatterplot(x=X.to_numpy().reshape(-1),y=y)\n",
    "  range_x = np.array([X.min(),X.max()])\n",
    "  plt.plot(range_x,w1*range_x+w0,color='red');"
   ]
  },
  {
   "cell_type": "code",
   "execution_count": 6,
   "metadata": {
    "ExecuteTime": {
     "end_time": "2023-04-20T17:25:35.172516Z",
     "start_time": "2023-04-20T17:25:35.158552Z"
    },
    "executionInfo": {
     "elapsed": 9,
     "status": "ok",
     "timestamp": 1629223290321,
     "user": {
      "displayName": "koby mike",
      "photoUrl": "https://lh3.googleusercontent.com/a-/AOh14GiwebWyFla1Q83A7MWAJDkFiPJrOCs6ytetpwh-=s64",
      "userId": "14272159066583388929"
     },
     "user_tz": -180
    },
    "id": "_weh97x1OmEY"
   },
   "outputs": [],
   "source": [
    "def J(w1,w0,X,y):\n",
    "  return np.sum((w1*X+w0-y)**2)/len(X)"
   ]
  },
  {
   "cell_type": "code",
   "execution_count": 7,
   "metadata": {
    "ExecuteTime": {
     "end_time": "2023-04-20T17:25:39.238923Z",
     "start_time": "2023-04-20T17:25:39.225920Z"
    },
    "executionInfo": {
     "elapsed": 8,
     "status": "ok",
     "timestamp": 1629223290321,
     "user": {
      "displayName": "koby mike",
      "photoUrl": "https://lh3.googleusercontent.com/a-/AOh14GiwebWyFla1Q83A7MWAJDkFiPJrOCs6ytetpwh-=s64",
      "userId": "14272159066583388929"
     },
     "user_tz": -180
    },
    "id": "gnV88jmnO6hs"
   },
   "outputs": [],
   "source": [
    "def dw1(w1,w0,X,y):\n",
    "  return 2 * np.sum((w1*X+w0-y)*X)/len(X)"
   ]
  },
  {
   "cell_type": "code",
   "execution_count": 8,
   "metadata": {
    "ExecuteTime": {
     "end_time": "2023-04-20T17:25:41.981524Z",
     "start_time": "2023-04-20T17:25:41.962528Z"
    },
    "executionInfo": {
     "elapsed": 8,
     "status": "ok",
     "timestamp": 1629223290321,
     "user": {
      "displayName": "koby mike",
      "photoUrl": "https://lh3.googleusercontent.com/a-/AOh14GiwebWyFla1Q83A7MWAJDkFiPJrOCs6ytetpwh-=s64",
      "userId": "14272159066583388929"
     },
     "user_tz": -180
    },
    "id": "dJSqtcD2O6Qk"
   },
   "outputs": [],
   "source": [
    "def dw0(w1,w0,X,y):\n",
    "  return 2 * np.sum(w1*X+w0-y)/len(X)"
   ]
  },
  {
   "cell_type": "code",
   "execution_count": 11,
   "metadata": {
    "ExecuteTime": {
     "end_time": "2023-04-20T17:26:13.788441Z",
     "start_time": "2023-04-20T17:26:13.603442Z"
    },
    "colab": {
     "base_uri": "https://localhost:8080/",
     "height": 265
    },
    "executionInfo": {
     "elapsed": 1097,
     "status": "ok",
     "timestamp": 1629223291410,
     "user": {
      "displayName": "koby mike",
      "photoUrl": "https://lh3.googleusercontent.com/a-/AOh14GiwebWyFla1Q83A7MWAJDkFiPJrOCs6ytetpwh-=s64",
      "userId": "14272159066583388929"
     },
     "user_tz": -180
    },
    "id": "sWyNEkn8PGso",
    "outputId": "e8e39063-581b-4739-8d96-0b2ccd9366db"
   },
   "outputs": [
    {
     "data": {
      "image/png": "[encoded data removed]",
      "text/plain": [
       "<Figure size 640x480 with 1 Axes>"
      ]
     },
     "metadata": {},
     "output_type": "display_data"
    }
   ],
   "source": [
    "w1=0\n",
    "w0=0\n",
    "alpha=0.01\n",
    "\n",
    "plot_reg(w1,w0,X,y)"
   ]
  },
  {
   "cell_type": "code",
   "execution_count": 12,
   "metadata": {
    "ExecuteTime": {
     "end_time": "2023-04-20T17:26:19.415815Z",
     "start_time": "2023-04-20T17:26:19.232814Z"
    },
    "colab": {
     "base_uri": "https://localhost:8080/",
     "height": 265
    },
    "executionInfo": {
     "elapsed": 12,
     "status": "ok",
     "timestamp": 1629223291411,
     "user": {
      "displayName": "koby mike",
      "photoUrl": "https://lh3.googleusercontent.com/a-/AOh14GiwebWyFla1Q83A7MWAJDkFiPJrOCs6ytetpwh-=s64",
      "userId": "14272159066583388929"
     },
     "user_tz": -180
    },
    "id": "T4nBE1C3PGjx",
    "outputId": "b85b20e8-b5a2-4d7b-d93e-d895f3cdfaa2"
   },
   "outputs": [
    {
     "data": {
      "image/png": "[encoded data removed]",
      "text/plain": [
       "<Figure size 640x480 with 1 Axes>"
      ]
     },
     "metadata": {},
     "output_type": "display_data"
    }
   ],
   "source": [
    "for i in range(10):\n",
    "  dw1_ = dw1(w1,w0,X,y)\n",
    "  dw0_ = dw0(w1,w0,X,y)\n",
    "\n",
    "  w1 -= alpha * dw1_\n",
    "  w0 -= alpha * dw0_\n",
    "\n",
    "plot_reg(w1,w0,X,y)"
   ]
  },
  {
   "cell_type": "code",
   "execution_count": null,
   "metadata": {},
   "outputs": [],
   "source": []
  }
 ],
 "metadata": {
  "colab": {
   "authorship_tag": "ABX9TyOMeBirDhDVft0CxyMur2CK",
   "collapsed_sections": [],
   "mount_file_id": "1_xqjT_AmbEbCuYmw5tR5L5t2OansixE7",
   "name": "6 Linear regression with gradient descent.ipynb",
   "provenance": [
    {
     "file_id": "1iD2zbpgKSdiY3YtSoYU7QXzBNp1G4wAM",
     "timestamp": 1629222431288
    }
   ]
  },
  "kernelspec": {
   "display_name": "Python 3 (ipykernel)",
   "language": "python",
   "name": "python3"
  },
  "language_info": {
   "codemirror_mode": {
    "name": "ipython",
    "version": 3
   },
   "file_extension": ".py",
   "mimetype": "text/x-python",
   "name": "python",
   "nbconvert_exporter": "python",
   "pygments_lexer": "ipython3",
   "version": "3.9.16"
  }
 },
 "nbformat": 4,
 "nbformat_minor": 1
}
