{
 "cells": [
  {
   "cell_type": "markdown",
   "metadata": {},
   "source": [
    "# Convolutional Neural Networks (CNNs)\n"
   ]
  },
  {
   "cell_type": "code",
   "execution_count": null,
   "metadata": {},
   "outputs": [],
   "source": [
    "#### Concept\n",
    "Convolutional Neural Networks (CNNs) are specialized neural networks designed to process data with a grid-like topology, such as images. They are particularly effective for image recognition and classification tasks due to their ability to capture spatial hierarchies in the data.\n",
    "\n",
    "#### Key Features of CNNs\n",
    "1. Convolutional Layers: Apply convolution operations to extract features from the input data.\n",
    "2. Pooling Layers: Reduce the dimensionality of the data while retaining important features.\n",
    "3. Fully Connected Layers: Perform classification based on the extracted features.\n",
    "4. Activation Functions: Introduce non-linearity to the network (e.g., ReLU).\n",
    "5. Filters/Kernels: Learnable parameters that detect specific patterns like edges, textures, etc.\n",
    "\n",
    "#### Key Steps\n",
    "1. Convolution Operation: Slide filters over the input image to create feature maps.\n",
    "2. Pooling Operation: Downsample the feature maps to reduce dimensions and computation.\n",
    "3. Flattening: Convert the 2D feature maps into a 1D vector for the fully connected layers.\n",
    "4. Fully Connected Layers: Perform the final classification based on the extracted features.\n"
   ]
  },
  {
   "cell_type": "code",
   "execution_count": null,
   "metadata": {},
   "outputs": [],
   "source": [
    "# Import necessary libraries\n",
    "import numpy as np\n",
    "import tensorflow as tf\n",
    "from tensorflow.keras.datasets import mnist\n",
    "from tensorflow.keras.models import Sequential\n",
    "from tensorflow.keras.layers import Conv2D, MaxPooling2D, Flatten, Dense\n",
    "from tensorflow.keras.utils import to_categorical\n",
    "\n",
    "# Load the MNIST dataset\n",
    "(X_train, y_train), (X_test, y_test) = mnist.load_data()\n",
    "\n",
    "# Preprocessing the data\n",
    "X_train = X_train.reshape(X_train.shape[0], 28, 28, 1).astype('float32') / 255\n",
    "X_test = X_test.reshape(X_test.shape[0], 28, 28, 1).astype('float32') / 255\n",
    "y_train = to_categorical(y_train, 10)\n",
    "y_test = to_categorical(y_test, 10)\n",
    "\n",
    "# Creating the CNN model\n",
    "model = Sequential([\n",
    "    Conv2D(32, kernel_size=(3, 3), activation='relu', input_shape=(28, 28, 1)),\n",
    "    MaxPooling2D(pool_size=(2, 2)),\n",
    "    Conv2D(64, kernel_size=(3, 3), activation='relu'),\n",
    "    MaxPooling2D(pool_size=(2, 2)),\n",
    "    Flatten(),\n",
    "    Dense(128, activation='relu'),\n",
    "    Dense(10, activation='softmax')\n",
    "])\n",
    "\n",
    "# Compiling the model\n",
    "model.compile(optimizer='adam', loss='categorical_crossentropy', metrics=['accuracy'])\n",
    "\n",
    "# Training the model\n",
    "model.fit(X_train, y_train, epochs=10, batch_size=200, validation_split=0.2, verbose=1)\n",
    "\n",
    "# Evaluating the model\n",
    "loss, accuracy = model.evaluate(X_test, y_test, verbose=0)\n",
    "print(f\"Test Accuracy: {accuracy}\")"
   ]
  },
  {
   "cell_type": "code",
   "execution_count": null,
   "metadata": {},
   "outputs": [],
   "source": [
    "#### Explanation of the Code\n",
    "\n",
    "1. Libraries: We import necessary libraries like numpy and tensorflow.keras.\n",
    "2. Data Loading: We load the MNIST dataset with images of handwritten digits.\n",
    "3. Data Preprocessing:\n",
    "   - Reshape the images to include a single channel (grayscale).\n",
    "   - Normalize pixel values to the range [0, 1].\n",
    "   - Convert the labels to one-hot encoded format.\n",
    "4. Model Creation:\n",
    "   - Conv2D Layers: Apply 32 and 64 filters with a kernel size of (3, 3) for feature extraction.\n",
    "   - MaxPooling2D Layers: Reduce the spatial dimensions of the feature maps.\n",
    "   - Flatten Layer: Convert 2D feature maps to a 1D vector.\n",
    "   - Dense Layers: Perform classification with 128 neurons in the hidden layer and 10 neurons in the output layer (one for each digit class).\n",
    "5. Model Compilation: We compile the model with the Adam optimizer and categorical cross-entropy loss function.\n",
    "6. Model Training: We train the model for 10 epochs with a batch size of 200 and validate on 20% of the training data.\n",
    "7. Model Evaluation: We evaluate the model on the test set and print the accuracy.\n",
    "\n"
   ]
  },
  {
   "cell_type": "markdown",
   "metadata": {},
   "source": [
    "#### Advanced Features of CNNs\n",
    "\n",
    "1. Deeper Architectures: Increase the number of convolutional and pooling layers for better feature extraction.\n",
    "2. Data Augmentation: Enhance the training set by applying transformations like rotation, flipping, and scaling.\n",
    "3. Transfer Learning: Use pre-trained models (e.g., VGG, ResNet) and fine-tune them on specific tasks.\n",
    "4. Regularization Techniques: \n",
    "   - Dropout: Randomly drop neurons during training to prevent overfitting.\n",
    "   - Batch Normalization: Normalize inputs of each layer to stabilize and accelerate training.\n"
   ]
  },
  {
   "cell_type": "code",
   "execution_count": null,
   "metadata": {},
   "outputs": [],
   "source": [
    "# Example with Data Augmentation and Dropout\n",
    "from tensorflow.keras.preprocessing.image import ImageDataGenerator\n",
    "from tensorflow.keras.layers import Dropout\n",
    "\n",
    "# Data Augmentation\n",
    "datagen = ImageDataGenerator(\n",
    "    rotation_range=10,\n",
    "    zoom_range=0.1,\n",
    "    width_shift_range=0.1,\n",
    "    height_shift_range=0.1\n",
    ")\n",
    "\n",
    "# Creating the CNN model with Dropout\n",
    "model = Sequential([\n",
    "    Conv2D(32, kernel_size=(3, 3), activation='relu', input_shape=(28, 28, 1)),\n",
    "    MaxPooling2D(pool_size=(2, 2)),\n",
    "    Dropout(0.25),\n",
    "    Conv2D(64, kernel_size=(3, 3), activation='relu'),\n",
    "    MaxPooling2D(pool_size=(2, 2)),\n",
    "    Dropout(0.25),\n",
    "    Flatten(),\n",
    "    Dense(128, activation='relu'),\n",
    "    Dropout(0.5),\n",
    "    Dense(10, activation='softmax')\n",
    "])\n",
    "\n",
    "# Compiling and training remain the same as before\n",
    "model.compile(optimizer='adam', loss='categorical_crossentropy', metrics=['accuracy'])\n",
    "model.fit(datagen.flow(X_train, y_train, batch_size=200), epochs=10, validation_data=(X_test, y_test), verbose=1)"
   ]
  },
  {
   "cell_type": "markdown",
   "metadata": {},
   "source": [
    "#### Applications\n",
    "\n",
    "CNNs are widely used in various fields such as:\n",
    "- Computer Vision: Image classification, object detection, facial recognition.\n",
    "- Medical Imaging: Tumor detection, medical image segmentation.\n",
    "- Autonomous Driving: Road sign recognition, obstacle detection.\n",
    "- Augmented Reality: Gesture recognition, object tracking.\n",
    "- Security: Surveillance, biometric authentication.\n",
    "\n",
    "CNNs' ability to automatically learn hierarchical feature representations makes them highly effective for image-related tasks.\n",
    "\n"
   ]
  }
 ],
 "metadata": {
  "kernelspec": {
   "display_name": "Python 3",
   "language": "python",
   "name": "python3"
  },
  "language_info": {
   "codemirror_mode": {
    "name": "ipython",
    "version": 3
   },
   "file_extension": ".py",
   "mimetype": "text/x-python",
   "name": "python",
   "nbconvert_exporter": "python",
   "pygments_lexer": "ipython3",
   "version": "3.8.5"
  }
 },
 "nbformat": 4,
 "nbformat_minor": 4
}
