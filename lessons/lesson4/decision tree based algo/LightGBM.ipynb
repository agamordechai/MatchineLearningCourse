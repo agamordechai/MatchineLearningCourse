{
 "cells": [
  {
   "cell_type": "markdown",
   "metadata": {},
   "source": [
    "# LightGBM"
   ]
  },
  {
   "cell_type": "markdown",
   "metadata": {},
   "source": [
    "#### Concept\n",
    "LightGBM (Light Gradient Boosting Machine) is a gradient boosting framework that uses tree-based \n",
    "learning algorithms. It is designed to be efficient and scalable, offering faster training speeds \n",
    "and higher efficiency compared to other gradient boosting algorithms. \n",
    "LightGBM handles large-scale data and offers better accuracy while consuming less memory.\n",
    "\n",
    "#### Key Features of LightGBM\n",
    "1. Leaf-Wise Tree Growth: Unlike level-wise growth used by other algorithms, \n",
    "   LightGBM grows trees leaf-wise, focusing on the leaves with the maximum loss reduction.\n",
    "2. Histogram-Based Decision Tree: Uses a histogram-based algorithm to speed up training and reduce memory usage.\n",
    "3. Categorical Feature Support: Efficiently handles categorical features without needing to preprocess them.\n",
    "4. Optimal Split for Missing Values: Automatically handles missing values and determines the optimal split for them.\n",
    "\n",
    "#### Key Steps\n",
    "1. Define the Objective Function: The loss function to be minimized.\n",
    "2. Compute Gradients: Calculate the gradients of the loss function.\n",
    "3. Fit the Trees: Train decision trees to predict the gradients.\n",
    "4. Update the Model: Combine the predictions of all trees to make the final prediction.\n"
   ]
  },
  {
   "cell_type": "code",
   "execution_count": null,
   "metadata": {},
   "outputs": [],
   "source": [
    "# Import necessary libraries\n",
    "import numpy as np\n",
    "import pandas as pd\n",
    "from sklearn.datasets import load_breast_cancer\n",
    "from sklearn.model_selection import train_test_split\n",
    "from sklearn.metrics import accuracy_score, confusion_matrix, classification_report\n",
    "import lightgbm as lgb\n",
    "\n",
    "# Load the Breast Cancer dataset\n",
    "data = load_breast_cancer()\n",
    "X = data.data\n",
    "y = data.target\n",
    "\n",
    "# Splitting the data into training and testing sets\n",
    "X_train, X_test, y_train, y_test = train_test_split(X, y, test_size=0.2, random_state=42)\n",
    "\n",
    "# Create and train the LightGBM model\n",
    "train_data = lgb.Dataset(X_train, label=y_train)\n",
    "params = {\n",
    "    'objective': 'binary',\n",
    "    'boosting_type': 'gbdt',\n",
    "    'metric': 'binary_logloss',\n",
    "    'num_leaves': 31,\n",
    "    'learning_rate': 0.05,\n",
    "    'feature_fraction': 0.9\n",
    "}\n",
    "\n",
    "# Train the model\n",
    "model = lgb.train(params, train_data, num_boost_round=100)\n",
    "\n",
    "# Making predictions\n",
    "y_pred = model.predict(X_test)\n",
    "y_pred_binary = [1 if x > 0.5 else 0 for x in y_pred]\n",
    "\n",
    "# Evaluating the model\n",
    "accuracy = accuracy_score(y_test, y_pred_binary)\n",
    "conf_matrix = confusion_matrix(y_test, y_pred_binary)\n",
    "class_report = classification_report(y_test, y_pred_binary)\n",
    "\n",
    "print(f\"Accuracy: {accuracy}\")\n",
    "print(f\"Confusion Matrix:\\n{conf_matrix}\")\n",
    "print(f\"Classification Report:\\n{class_report}\")"
   ]
  },
  {
   "cell_type": "markdown",
   "metadata": {},
   "source": [
    "#### Explanation of the Code\n",
    "\n",
    "1. Libraries: We import necessary libraries like numpy, pandas, sklearn, and lightgbm.\n",
    "2. Data Preparation: We load the Breast Cancer dataset with features and the target variable (malignant or benign).\n",
    "3. Train-Test Split: We split the data into training and testing sets.\n",
    "4. Model Training: We create a LightGBM dataset and set the parameters for the model.\n",
    "5. Predictions: We use the trained LightGBM model to predict the labels for the test set.\n",
    "6. Evaluation:\n",
    "    - Accuracy: Measures the proportion of correctly classified instances.\n",
    "    - Confusion Matrix: Shows the counts of true positive, true negative, false positive, and false negative predictions.\n",
    "    - Classification Report: Provides precision, recall, F1-score, and support for each class.\n"
   ]
  },
  {
   "cell_type": "code",
   "execution_count": null,
   "metadata": {},
   "outputs": [],
   "source": [
    "#### Applications\n",
    "\n",
    "LightGBM is widely used in various fields such as:\n",
    "- Finance: Fraud detection, credit scoring.\n",
    "- Healthcare: Disease prediction, patient risk stratification.\n",
    "- Marketing: Customer segmentation, churn prediction.\n",
    "- Sports: Player performance prediction, match outcome prediction.\n"
   ]
  },
  {
   "cell_type": "code",
   "execution_count": null,
   "metadata": {},
   "outputs": [],
   "source": [
    "#### type: LightGBM (Light Gradient Boosting Machine) builds Decision Trees. \n",
    "\n",
    "#### Gradient Boosting, XGBoost, LightGBM, Random Forest"
   ]
  }
 ],
 "metadata": {
  "kernelspec": {
   "display_name": "Python 3",
   "language": "python",
   "name": "python3"
  },
  "language_info": {
   "codemirror_mode": {
    "name": "ipython",
    "version": 3
   },
   "file_extension": ".py",
   "mimetype": "text/x-python",
   "name": "python",
   "nbconvert_exporter": "python",
   "pygments_lexer": "ipython3",
   "version": "3.8.5"
  }
 },
 "nbformat": 4,
 "nbformat_minor": 4
}
