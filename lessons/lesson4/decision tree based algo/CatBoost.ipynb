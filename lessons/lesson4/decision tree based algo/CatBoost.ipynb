{
 "cells": [
  {
   "cell_type": "markdown",
   "metadata": {},
   "source": [
    "# CatBoost"
   ]
  },
  {
   "cell_type": "markdown",
   "metadata": {},
   "source": [
    "#### Concept: \n",
    "CatBoost (Categorical Boosting) is a gradient boosting library that is particularly effective for datasets that include categorical features. It is designed to handle categorical data natively without the need for extensive preprocessing, such as one-hot encoding, which can lead to better performance and ease of use. \n",
    "\n",
    "#### Key Features of CatBoost\n",
    "1. Handling Categorical Features: Uses ordered boosting and a special technique to handle categorical features without needing preprocessing.\n",
    "2. Ordered Boosting: A technique to reduce overfitting by processing data in a specific order.\n",
    "3. Symmetric Trees: Ensures efficient memory usage and faster predictions by growing trees symmetrically.\n",
    "4. Robust to Overfitting: Incorporates techniques to minimize overfitting, making it suitable for various types of data.\n",
    "5. Efficient GPU Training: Supports fast training on GPU, which can significantly reduce training time.\n",
    "\n",
    "#### Key Steps\n",
    "1. Define the Objective Function: The loss function to be minimized.\n",
    "2. Compute Gradients: Calculate the gradients of the loss function.\n",
    "3. Fit the Trees: Train decision trees to predict the gradients.\n",
    "4. Update the Model: Combine the predictions of all trees to make the final prediction.\n"
   ]
  },
  {
   "cell_type": "code",
   "execution_count": null,
   "metadata": {},
   "outputs": [],
   "source": [
    "# Import necessary libraries\n",
    "import numpy as np\n",
    "import pandas as pd\n",
    "from sklearn.datasets import load_breast_cancer\n",
    "from sklearn.model_selection import train_test_split\n",
    "from sklearn.metrics import accuracy_score, confusion_matrix, classification_report\n",
    "from catboost import CatBoostClassifier\n",
    "\n",
    "# Load the Breast Cancer dataset\n",
    "data = load_breast_cancer()\n",
    "X = data.data\n",
    "y = data.target\n",
    "\n",
    "# Splitting the data into training and testing sets\n",
    "X_train, X_test, y_train, y_test = train_test_split(X, y, test_size=0.2, random_state=42)\n",
    "\n",
    "# Create and train the CatBoost model\n",
    "model = CatBoostClassifier(iterations=1000, learning_rate=0.1, depth=6, verbose=0)\n",
    "model.fit(X_train, y_train)\n",
    "\n",
    "# Making predictions\n",
    "y_pred = model.predict(X_test)\n",
    "\n",
    "# Evaluating the model\n",
    "accuracy = accuracy_score(y_test, y_pred)\n",
    "conf_matrix = confusion_matrix(y_test, y_pred)\n",
    "class_report = classification_report(y_test, y_pred)\n",
    "\n",
    "print(f\"Accuracy: {accuracy}\")\n",
    "print(f\"Confusion Matrix:\\n{conf_matrix}\")\n",
    "print(f\"Classification Report:\\n{class_report}\")"
   ]
  },
  {
   "cell_type": "markdown",
   "metadata": {},
   "source": [
    "#### Explanation of the Code\n",
    "\n",
    "1. Libraries: We import necessary libraries like numpy, pandas, sklearn, and catboost.\n",
    "2. Data Preparation: We load the Breast Cancer dataset with features and the target variable (malignant or benign).\n",
    "3. Train-Test Split: We split the data into training and testing sets.\n",
    "4. Model Training: We create a CatBoostClassifier model and set the parameters for training.\n",
    "5. Predictions: We use the trained CatBoost model to predict the labels for the test set.\n",
    "6. Evaluation:\n",
    "    - Accuracy: Measures the proportion of correctly classified instances.\n",
    "    - Confusion Matrix: Shows the counts of true positive, true negative, false positive, and false negative predictions.\n",
    "    - Classification Report: Provides precision, recall, F1-score, and support for each class.\n"
   ]
  },
  {
   "cell_type": "code",
   "execution_count": null,
   "metadata": {},
   "outputs": [],
   "source": [
    "#### Applications\n",
    "\n",
    "CatBoost is widely used in various fields such as:\n",
    "- Finance: Fraud detection, credit scoring.\n",
    "- Healthcare: Disease prediction, patient risk stratification.\n",
    "- Marketing: Customer segmentation, churn prediction.\n",
    "- E-commerce: Product recommendation, customer behavior analysis.\n"
   ]
  }
 ],
 "metadata": {
  "kernelspec": {
   "display_name": "Python 3",
   "language": "python",
   "name": "python3"
  },
  "language_info": {
   "codemirror_mode": {
    "name": "ipython",
    "version": 3
   },
   "file_extension": ".py",
   "mimetype": "text/x-python",
   "name": "python",
   "nbconvert_exporter": "python",
   "pygments_lexer": "ipython3",
   "version": "3.8.5"
  }
 },
 "nbformat": 4,
 "nbformat_minor": 4
}
